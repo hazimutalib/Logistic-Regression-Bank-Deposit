{
 "cells": [
  {
   "cell_type": "code",
   "execution_count": 1,
   "metadata": {},
   "outputs": [],
   "source": [
    "# This Python 3 environment comes with many helpful analytics libraries installed\n",
    "# It is defined by the kaggle/python docker image: https://github.com/kaggle/docker-python\n",
    "# For example, here's several helpful packages to load in \n",
    "\n",
    "# Imported Libraries\n",
    "\n",
    "import numpy as np # linear algebra\n",
    "import pandas as pd # data processing, CSV file I/O (e.g. pd.read_csv)\n",
    "import matplotlib.pyplot as plt\n",
    "import seaborn as sns\n",
    "from sklearn.manifold import TSNE\n",
    "from sklearn.decomposition import PCA, TruncatedSVD\n",
    "import matplotlib.patches as mpatches\n",
    "import time\n",
    "\n",
    "from sklearn.preprocessing import StandardScaler, RobustScaler\n",
    "\n",
    "# Classifier Libraries\n",
    "from sklearn.linear_model import LogisticRegression\n",
    "from sklearn.svm import SVC\n",
    "from sklearn.neighbors import KNeighborsClassifier\n",
    "from sklearn.tree import DecisionTreeClassifier\n",
    "from sklearn.ensemble import RandomForestClassifier\n",
    "from catboost import CatBoostClassifier\n",
    "from sklearn.neural_network import MLPClassifier\n",
    "from xgboost import XGBClassifier\n",
    "import collections\n",
    "\n",
    "\n",
    "# Other Libraries\n",
    "from sklearn.model_selection import train_test_split\n",
    "from sklearn.pipeline import make_pipeline\n",
    "from imblearn.pipeline import make_pipeline as imbalanced_make_pipeline\n",
    "from imblearn.over_sampling import SMOTE\n",
    "from imblearn.under_sampling import NearMiss\n",
    "from imblearn.metrics import classification_report_imbalanced\n",
    "from sklearn.metrics import precision_score, recall_score, f1_score, roc_auc_score, accuracy_score, classification_report, roc_curve\n",
    "from collections import Counter\n",
    "from sklearn.model_selection import KFold, StratifiedKFold\n",
    "import warnings\n",
    "warnings.filterwarnings(\"ignore\")\n",
    "\n",
    "pd.options.display.max_columns = None\n",
    "pd.options.display.max_rows = None"
   ]
  },
  {
   "cell_type": "code",
   "execution_count": 68,
   "metadata": {},
   "outputs": [
    {
     "data": {
      "text/html": [
       "<div>\n",
       "<style scoped>\n",
       "    .dataframe tbody tr th:only-of-type {\n",
       "        vertical-align: middle;\n",
       "    }\n",
       "\n",
       "    .dataframe tbody tr th {\n",
       "        vertical-align: top;\n",
       "    }\n",
       "\n",
       "    .dataframe thead th {\n",
       "        text-align: right;\n",
       "    }\n",
       "</style>\n",
       "<table border=\"1\" class=\"dataframe\">\n",
       "  <thead>\n",
       "    <tr style=\"text-align: right;\">\n",
       "      <th></th>\n",
       "      <th>age</th>\n",
       "      <th>job</th>\n",
       "      <th>marital</th>\n",
       "      <th>education</th>\n",
       "      <th>default</th>\n",
       "      <th>housing</th>\n",
       "      <th>loan</th>\n",
       "      <th>contact</th>\n",
       "      <th>month</th>\n",
       "      <th>day_of_week</th>\n",
       "      <th>duration</th>\n",
       "      <th>campaign</th>\n",
       "      <th>pdays</th>\n",
       "      <th>previous</th>\n",
       "      <th>poutcome</th>\n",
       "      <th>emp.var.rate</th>\n",
       "      <th>cons.price.idx</th>\n",
       "      <th>cons.conf.idx</th>\n",
       "      <th>euribor3m</th>\n",
       "      <th>nr.employed</th>\n",
       "      <th>y</th>\n",
       "    </tr>\n",
       "  </thead>\n",
       "  <tbody>\n",
       "    <tr>\n",
       "      <th>0</th>\n",
       "      <td>56</td>\n",
       "      <td>housemaid</td>\n",
       "      <td>married</td>\n",
       "      <td>basic.4y</td>\n",
       "      <td>no</td>\n",
       "      <td>no</td>\n",
       "      <td>no</td>\n",
       "      <td>telephone</td>\n",
       "      <td>may</td>\n",
       "      <td>mon</td>\n",
       "      <td>261</td>\n",
       "      <td>1</td>\n",
       "      <td>999</td>\n",
       "      <td>0</td>\n",
       "      <td>nonexistent</td>\n",
       "      <td>1.1</td>\n",
       "      <td>93.994</td>\n",
       "      <td>-36.4</td>\n",
       "      <td>4.857</td>\n",
       "      <td>5191.0</td>\n",
       "      <td>no</td>\n",
       "    </tr>\n",
       "    <tr>\n",
       "      <th>1</th>\n",
       "      <td>57</td>\n",
       "      <td>services</td>\n",
       "      <td>married</td>\n",
       "      <td>high.school</td>\n",
       "      <td>unknown</td>\n",
       "      <td>no</td>\n",
       "      <td>no</td>\n",
       "      <td>telephone</td>\n",
       "      <td>may</td>\n",
       "      <td>mon</td>\n",
       "      <td>149</td>\n",
       "      <td>1</td>\n",
       "      <td>999</td>\n",
       "      <td>0</td>\n",
       "      <td>nonexistent</td>\n",
       "      <td>1.1</td>\n",
       "      <td>93.994</td>\n",
       "      <td>-36.4</td>\n",
       "      <td>4.857</td>\n",
       "      <td>5191.0</td>\n",
       "      <td>no</td>\n",
       "    </tr>\n",
       "    <tr>\n",
       "      <th>2</th>\n",
       "      <td>37</td>\n",
       "      <td>services</td>\n",
       "      <td>married</td>\n",
       "      <td>high.school</td>\n",
       "      <td>no</td>\n",
       "      <td>yes</td>\n",
       "      <td>no</td>\n",
       "      <td>telephone</td>\n",
       "      <td>may</td>\n",
       "      <td>mon</td>\n",
       "      <td>226</td>\n",
       "      <td>1</td>\n",
       "      <td>999</td>\n",
       "      <td>0</td>\n",
       "      <td>nonexistent</td>\n",
       "      <td>1.1</td>\n",
       "      <td>93.994</td>\n",
       "      <td>-36.4</td>\n",
       "      <td>4.857</td>\n",
       "      <td>5191.0</td>\n",
       "      <td>no</td>\n",
       "    </tr>\n",
       "    <tr>\n",
       "      <th>3</th>\n",
       "      <td>40</td>\n",
       "      <td>admin.</td>\n",
       "      <td>married</td>\n",
       "      <td>basic.6y</td>\n",
       "      <td>no</td>\n",
       "      <td>no</td>\n",
       "      <td>no</td>\n",
       "      <td>telephone</td>\n",
       "      <td>may</td>\n",
       "      <td>mon</td>\n",
       "      <td>151</td>\n",
       "      <td>1</td>\n",
       "      <td>999</td>\n",
       "      <td>0</td>\n",
       "      <td>nonexistent</td>\n",
       "      <td>1.1</td>\n",
       "      <td>93.994</td>\n",
       "      <td>-36.4</td>\n",
       "      <td>4.857</td>\n",
       "      <td>5191.0</td>\n",
       "      <td>no</td>\n",
       "    </tr>\n",
       "    <tr>\n",
       "      <th>4</th>\n",
       "      <td>56</td>\n",
       "      <td>services</td>\n",
       "      <td>married</td>\n",
       "      <td>high.school</td>\n",
       "      <td>no</td>\n",
       "      <td>no</td>\n",
       "      <td>yes</td>\n",
       "      <td>telephone</td>\n",
       "      <td>may</td>\n",
       "      <td>mon</td>\n",
       "      <td>307</td>\n",
       "      <td>1</td>\n",
       "      <td>999</td>\n",
       "      <td>0</td>\n",
       "      <td>nonexistent</td>\n",
       "      <td>1.1</td>\n",
       "      <td>93.994</td>\n",
       "      <td>-36.4</td>\n",
       "      <td>4.857</td>\n",
       "      <td>5191.0</td>\n",
       "      <td>no</td>\n",
       "    </tr>\n",
       "  </tbody>\n",
       "</table>\n",
       "</div>"
      ],
      "text/plain": [
       "   age        job  marital    education  default housing loan    contact  \\\n",
       "0   56  housemaid  married     basic.4y       no      no   no  telephone   \n",
       "1   57   services  married  high.school  unknown      no   no  telephone   \n",
       "2   37   services  married  high.school       no     yes   no  telephone   \n",
       "3   40     admin.  married     basic.6y       no      no   no  telephone   \n",
       "4   56   services  married  high.school       no      no  yes  telephone   \n",
       "\n",
       "  month day_of_week  duration  campaign  pdays  previous     poutcome  \\\n",
       "0   may         mon       261         1    999         0  nonexistent   \n",
       "1   may         mon       149         1    999         0  nonexistent   \n",
       "2   may         mon       226         1    999         0  nonexistent   \n",
       "3   may         mon       151         1    999         0  nonexistent   \n",
       "4   may         mon       307         1    999         0  nonexistent   \n",
       "\n",
       "   emp.var.rate  cons.price.idx  cons.conf.idx  euribor3m  nr.employed   y  \n",
       "0           1.1          93.994          -36.4      4.857       5191.0  no  \n",
       "1           1.1          93.994          -36.4      4.857       5191.0  no  \n",
       "2           1.1          93.994          -36.4      4.857       5191.0  no  \n",
       "3           1.1          93.994          -36.4      4.857       5191.0  no  \n",
       "4           1.1          93.994          -36.4      4.857       5191.0  no  "
      ]
     },
     "execution_count": 68,
     "metadata": {},
     "output_type": "execute_result"
    }
   ],
   "source": [
    "df = pd.read_csv('C:\\\\Users\\\\Muhammad Hazim\\\\Desktop\\\\bank-additional-full.csv', sep = ';')\n",
    "df.head()"
   ]
  },
  {
   "cell_type": "code",
   "execution_count": 70,
   "metadata": {},
   "outputs": [
    {
     "data": {
      "text/plain": [
       "<matplotlib.axes._subplots.AxesSubplot at 0x265723f4850>"
      ]
     },
     "execution_count": 70,
     "metadata": {},
     "output_type": "execute_result"
    },
    {
     "data": {
      "image/png": "[encoded data removed]",
      "text/plain": [
       "<Figure size 1080x1080 with 2 Axes>"
      ]
     },
     "metadata": {
      "needs_background": "light"
     },
     "output_type": "display_data"
    }
   ],
   "source": [
    "plt.figure(figsize = (15, 15))\n",
    "sns.heatmap(df.corr(), annot = True)"
   ]
  },
  {
   "cell_type": "code",
   "execution_count": 3,
   "metadata": {},
   "outputs": [],
   "source": [
    "df.drop(['emp.var.rate', 'euribor3m'], axis = 1, inplace = True)"
   ]
  },
  {
   "cell_type": "code",
   "execution_count": 4,
   "metadata": {},
   "outputs": [],
   "source": [
    "cat_feat = []\n",
    "\n",
    "for column in df.columns.values:\n",
    "    if (column != 'y') & (df[column].dtypes == 'O'):\n",
    "        cat_feat.append(column)   \n",
    "        \n",
    "numd_feat = []\n",
    "\n",
    "for column in df.columns.values:\n",
    "    if (column != 'y') & (df[column].dtypes == 'int64'):\n",
    "        numd_feat.append(column) \n",
    "\n",
    "numf_feat = []\n",
    "\n",
    "for column in df.columns.values:\n",
    "    if (column != 'y') & (df[column].dtypes == 'float64'):\n",
    "        numf_feat.append(column) "
   ]
  },
  {
   "cell_type": "code",
   "execution_count": 5,
   "metadata": {},
   "outputs": [],
   "source": [
    "def plot_bar(column):\n",
    "    table = pd.DataFrame()\n",
    "    table['No_deposit'] = df[df['y'] == 'no'][column].value_counts()\n",
    "    table['Yes_deposit'] = df[df['y'] == 'yes'][column].value_counts()\n",
    "    table.plot(kind='bar')\n",
    "    plt.xlabel(f'{column}')\n",
    "    plt.ylabel('Number of clients')\n",
    "    plt.title('Distribution of {} and deposit'.format(column))\n",
    "    plt.show();"
   ]
  },
  {
   "cell_type": "code",
   "execution_count": 6,
   "metadata": {},
   "outputs": [
    {
     "data": {
      "image/png": "[encoded data removed]",
      "text/plain": [
       "<Figure size 432x288 with 1 Axes>"
      ]
     },
     "metadata": {
      "needs_background": "light"
     },
     "output_type": "display_data"
    },
    {
     "data": {
      "image/png": "[encoded data removed]",
      "text/plain": [
       "<Figure size 432x288 with 1 Axes>"
      ]
     },
     "metadata": {
      "needs_background": "light"
     },
     "output_type": "display_data"
    },
    {
     "data": {
      "image/png": "[encoded data removed]",
      "text/plain": [
       "<Figure size 432x288 with 1 Axes>"
      ]
     },
     "metadata": {
      "needs_background": "light"
     },
     "output_type": "display_data"
    },
    {
     "data": {
      "image/png": "[encoded data removed]",
      "text/plain": [
       "<Figure size 432x288 with 1 Axes>"
      ]
     },
     "metadata": {
      "needs_background": "light"
     },
     "output_type": "display_data"
    },
    {
     "data": {
      "image/png": "[encoded data removed]",
      "text/plain": [
       "<Figure size 432x288 with 1 Axes>"
      ]
     },
     "metadata": {
      "needs_background": "light"
     },
     "output_type": "display_data"
    },
    {
     "data": {
      "image/png": "[encoded data removed]",
      "text/plain": [
       "<Figure size 432x288 with 1 Axes>"
      ]
     },
     "metadata": {
      "needs_background": "light"
     },
     "output_type": "display_data"
    },
    {
     "data": {
      "image/png": "[encoded data removed]",
      "text/plain": [
       "<Figure size 432x288 with 1 Axes>"
      ]
     },
     "metadata": {
      "needs_background": "light"
     },
     "output_type": "display_data"
    },
    {
     "data": {
      "image/png": "[encoded data removed]",
      "text/plain": [
       "<Figure size 432x288 with 1 Axes>"
      ]
     },
     "metadata": {
      "needs_background": "light"
     },
     "output_type": "display_data"
    },
    {
     "data": {
      "image/png": "[encoded data removed]",
      "text/plain": [
       "<Figure size 432x288 with 1 Axes>"
      ]
     },
     "metadata": {
      "needs_background": "light"
     },
     "output_type": "display_data"
    },
    {
     "data": {
      "image/png": "[encoded data removed]",
      "text/plain": [
       "<Figure size 432x288 with 1 Axes>"
      ]
     },
     "metadata": {
      "needs_background": "light"
     },
     "output_type": "display_data"
    }
   ],
   "source": [
    "for column in cat_feat:\n",
    "    plot_bar(column)"
   ]
  },
  {
   "cell_type": "code",
   "execution_count": 7,
   "metadata": {},
   "outputs": [
    {
     "data": {
      "text/plain": [
       "array(['basic.4y', 'high.school', 'basic.6y', 'basic.9y',\n",
       "       'professional.course', 'unknown', 'university.degree',\n",
       "       'illiterate'], dtype=object)"
      ]
     },
     "execution_count": 7,
     "metadata": {},
     "output_type": "execute_result"
    }
   ],
   "source": [
    "df.education.unique()"
   ]
  },
  {
   "cell_type": "code",
   "execution_count": 8,
   "metadata": {},
   "outputs": [],
   "source": [
    "df.marital = df.marital.map({'married': 1, 'single':0, 'divorced':0, 'unknown':0})\n",
    "df.education = df.education.map({'basic.4y':0, 'high.school':0, 'basic.6y':0, 'basic.9y':0,\n",
    "       'professional.course':1, 'unknown':0, 'university.degree':1,\n",
    "       'illiterate':0})\n",
    "df.default = df.default.map({'no':0, 'unknown':0, 'yes':1})\n",
    "df.contact = df.contact.map({'cellular': 0, 'telephone':1})"
   ]
  },
  {
   "cell_type": "code",
   "execution_count": 9,
   "metadata": {},
   "outputs": [],
   "source": [
    "df.pdays = df.pdays.replace(999,0)\n",
    "df.y = df.y.map({'no': 0, 'yes': 1})"
   ]
  },
  {
   "cell_type": "code",
   "execution_count": 10,
   "metadata": {},
   "outputs": [],
   "source": [
    "std_scaler = StandardScaler()\n",
    "rob_scaler = RobustScaler()"
   ]
  },
  {
   "cell_type": "code",
   "execution_count": 11,
   "metadata": {},
   "outputs": [
    {
     "data": {
      "text/plain": [
       "['age', 'duration', 'campaign', 'pdays', 'previous']"
      ]
     },
     "execution_count": 11,
     "metadata": {},
     "output_type": "execute_result"
    }
   ],
   "source": [
    "numd_feat"
   ]
  },
  {
   "cell_type": "code",
   "execution_count": 12,
   "metadata": {},
   "outputs": [],
   "source": [
    "df['age'] = std_scaler.fit_transform(df['age'].values.reshape(-1,1))"
   ]
  },
  {
   "cell_type": "code",
   "execution_count": 13,
   "metadata": {},
   "outputs": [],
   "source": [
    "df['duration'] = df['duration']/60"
   ]
  },
  {
   "cell_type": "code",
   "execution_count": 14,
   "metadata": {},
   "outputs": [],
   "source": [
    "df['duration'] = rob_scaler.fit_transform(df['duration'].values.reshape(-1,1))"
   ]
  },
  {
   "cell_type": "code",
   "execution_count": 15,
   "metadata": {},
   "outputs": [],
   "source": [
    "df['campaign'] = rob_scaler.fit_transform(df['campaign'].values.reshape(-1,1))"
   ]
  },
  {
   "cell_type": "code",
   "execution_count": 16,
   "metadata": {},
   "outputs": [],
   "source": [
    "df['pdays'] = rob_scaler.fit_transform(df['pdays'].values.reshape(-1,1))"
   ]
  },
  {
   "cell_type": "code",
   "execution_count": 17,
   "metadata": {},
   "outputs": [],
   "source": [
    "df.loc[df['previous'] == 0, 'previous'] = 0\n",
    "df.loc[df['previous'] > 0, 'previous'] = 1"
   ]
  },
  {
   "cell_type": "code",
   "execution_count": 18,
   "metadata": {},
   "outputs": [
    {
     "data": {
      "text/plain": [
       "['cons.price.idx', 'cons.conf.idx', 'nr.employed']"
      ]
     },
     "execution_count": 18,
     "metadata": {},
     "output_type": "execute_result"
    }
   ],
   "source": [
    "numf_feat"
   ]
  },
  {
   "cell_type": "code",
   "execution_count": 19,
   "metadata": {},
   "outputs": [],
   "source": [
    "df['cons.price.idx'] = std_scaler.fit_transform(df['cons.price.idx'].values.reshape(-1,1))"
   ]
  },
  {
   "cell_type": "code",
   "execution_count": 20,
   "metadata": {},
   "outputs": [],
   "source": [
    "df['cons.conf.idx'] = std_scaler.fit_transform(df['cons.conf.idx'].values.reshape(-1,1))"
   ]
  },
  {
   "cell_type": "code",
   "execution_count": 21,
   "metadata": {},
   "outputs": [],
   "source": [
    "df['nr.employed'] = rob_scaler.fit_transform(df['nr.employed'].values.reshape(-1,1))"
   ]
  },
  {
   "cell_type": "code",
   "execution_count": 22,
   "metadata": {},
   "outputs": [],
   "source": [
    "df = pd.get_dummies(df, drop_first = True)"
   ]
  },
  {
   "cell_type": "code",
   "execution_count": 23,
   "metadata": {},
   "outputs": [],
   "source": [
    "x = df.drop(\"y\", axis=1)\n",
    "y = df[\"y\"]"
   ]
  },
  {
   "cell_type": "code",
   "execution_count": 24,
   "metadata": {},
   "outputs": [],
   "source": [
    "x_train, x_test, y_train, y_test = train_test_split(x, y, test_size = 0.2, random_state = 42, stratify = y)"
   ]
  },
  {
   "cell_type": "code",
   "execution_count": 25,
   "metadata": {},
   "outputs": [],
   "source": [
    "def score(model):\n",
    "    df1 = pd.DataFrame(index = ['Accuracy', 'Precision', 'ROC AUC'] )\n",
    "    df1['Train Score'] = [accuracy_score(y_train, model.predict(x_train)), precision_score(y_train, model.predict(x_train)), roc_auc_score(y_train, model.predict_proba(x_train)[:,1])]\n",
    "    df1['Test Score'] = [accuracy_score(y_test, model.predict(x_test)), precision_score(y_test, model.predict(x_test)), roc_auc_score(y_test, model.predict_proba(x_test)[:,1])]        \n",
    "    return df1"
   ]
  },
  {
   "cell_type": "code",
   "execution_count": 26,
   "metadata": {},
   "outputs": [
    {
     "data": {
      "text/plain": [
       "LogisticRegression()"
      ]
     },
     "execution_count": 26,
     "metadata": {},
     "output_type": "execute_result"
    }
   ],
   "source": [
    "lr = LogisticRegression()\n",
    "lr.fit(x_train, y_train)"
   ]
  },
  {
   "cell_type": "code",
   "execution_count": 27,
   "metadata": {},
   "outputs": [
    {
     "data": {
      "text/html": [
       "<div>\n",
       "<style scoped>\n",
       "    .dataframe tbody tr th:only-of-type {\n",
       "        vertical-align: middle;\n",
       "    }\n",
       "\n",
       "    .dataframe tbody tr th {\n",
       "        vertical-align: top;\n",
       "    }\n",
       "\n",
       "    .dataframe thead th {\n",
       "        text-align: right;\n",
       "    }\n",
       "</style>\n",
       "<table border=\"1\" class=\"dataframe\">\n",
       "  <thead>\n",
       "    <tr style=\"text-align: right;\">\n",
       "      <th></th>\n",
       "      <th>Train Score</th>\n",
       "      <th>Test Score</th>\n",
       "    </tr>\n",
       "  </thead>\n",
       "  <tbody>\n",
       "    <tr>\n",
       "      <th>Accuracy</th>\n",
       "      <td>0.909226</td>\n",
       "      <td>0.913450</td>\n",
       "    </tr>\n",
       "    <tr>\n",
       "      <th>Precision</th>\n",
       "      <td>0.657630</td>\n",
       "      <td>0.693694</td>\n",
       "    </tr>\n",
       "    <tr>\n",
       "      <th>ROC AUC</th>\n",
       "      <td>0.931009</td>\n",
       "      <td>0.940707</td>\n",
       "    </tr>\n",
       "  </tbody>\n",
       "</table>\n",
       "</div>"
      ],
      "text/plain": [
       "           Train Score  Test Score\n",
       "Accuracy      0.909226    0.913450\n",
       "Precision     0.657630    0.693694\n",
       "ROC AUC       0.931009    0.940707"
      ]
     },
     "execution_count": 27,
     "metadata": {},
     "output_type": "execute_result"
    }
   ],
   "source": [
    "score(lr)"
   ]
  },
  {
   "cell_type": "code",
   "execution_count": 32,
   "metadata": {},
   "outputs": [
    {
     "data": {
      "text/plain": [
       "DecisionTreeClassifier(max_depth=7)"
      ]
     },
     "execution_count": 32,
     "metadata": {},
     "output_type": "execute_result"
    }
   ],
   "source": [
    "dt = DecisionTreeClassifier(max_depth = 7)\n",
    "dt.fit(x_train, y_train)"
   ]
  },
  {
   "cell_type": "code",
   "execution_count": 33,
   "metadata": {},
   "outputs": [
    {
     "data": {
      "text/html": [
       "<div>\n",
       "<style scoped>\n",
       "    .dataframe tbody tr th:only-of-type {\n",
       "        vertical-align: middle;\n",
       "    }\n",
       "\n",
       "    .dataframe tbody tr th {\n",
       "        vertical-align: top;\n",
       "    }\n",
       "\n",
       "    .dataframe thead th {\n",
       "        text-align: right;\n",
       "    }\n",
       "</style>\n",
       "<table border=\"1\" class=\"dataframe\">\n",
       "  <thead>\n",
       "    <tr style=\"text-align: right;\">\n",
       "      <th></th>\n",
       "      <th>Train Score</th>\n",
       "      <th>Test Score</th>\n",
       "    </tr>\n",
       "  </thead>\n",
       "  <tbody>\n",
       "    <tr>\n",
       "      <th>Accuracy</th>\n",
       "      <td>0.920486</td>\n",
       "      <td>0.916849</td>\n",
       "    </tr>\n",
       "    <tr>\n",
       "      <th>Precision</th>\n",
       "      <td>0.708556</td>\n",
       "      <td>0.695024</td>\n",
       "    </tr>\n",
       "    <tr>\n",
       "      <th>ROC AUC</th>\n",
       "      <td>0.945252</td>\n",
       "      <td>0.938865</td>\n",
       "    </tr>\n",
       "  </tbody>\n",
       "</table>\n",
       "</div>"
      ],
      "text/plain": [
       "           Train Score  Test Score\n",
       "Accuracy      0.920486    0.916849\n",
       "Precision     0.708556    0.695024\n",
       "ROC AUC       0.945252    0.938865"
      ]
     },
     "execution_count": 33,
     "metadata": {},
     "output_type": "execute_result"
    }
   ],
   "source": [
    "score(dt)"
   ]
  },
  {
   "cell_type": "code",
   "execution_count": 40,
   "metadata": {},
   "outputs": [
    {
     "data": {
      "text/plain": [
       "RandomForestClassifier(max_depth=7)"
      ]
     },
     "execution_count": 40,
     "metadata": {},
     "output_type": "execute_result"
    }
   ],
   "source": [
    "rf = RandomForestClassifier(max_depth=7)\n",
    "rf.fit(x_train, y_train)"
   ]
  },
  {
   "cell_type": "code",
   "execution_count": 41,
   "metadata": {},
   "outputs": [
    {
     "data": {
      "text/html": [
       "<div>\n",
       "<style scoped>\n",
       "    .dataframe tbody tr th:only-of-type {\n",
       "        vertical-align: middle;\n",
       "    }\n",
       "\n",
       "    .dataframe tbody tr th {\n",
       "        vertical-align: top;\n",
       "    }\n",
       "\n",
       "    .dataframe thead th {\n",
       "        text-align: right;\n",
       "    }\n",
       "</style>\n",
       "<table border=\"1\" class=\"dataframe\">\n",
       "  <thead>\n",
       "    <tr style=\"text-align: right;\">\n",
       "      <th></th>\n",
       "      <th>Train Score</th>\n",
       "      <th>Test Score</th>\n",
       "    </tr>\n",
       "  </thead>\n",
       "  <tbody>\n",
       "    <tr>\n",
       "      <th>Accuracy</th>\n",
       "      <td>0.908073</td>\n",
       "      <td>0.905438</td>\n",
       "    </tr>\n",
       "    <tr>\n",
       "      <th>Precision</th>\n",
       "      <td>0.831876</td>\n",
       "      <td>0.822511</td>\n",
       "    </tr>\n",
       "    <tr>\n",
       "      <th>ROC AUC</th>\n",
       "      <td>0.942845</td>\n",
       "      <td>0.941592</td>\n",
       "    </tr>\n",
       "  </tbody>\n",
       "</table>\n",
       "</div>"
      ],
      "text/plain": [
       "           Train Score  Test Score\n",
       "Accuracy      0.908073    0.905438\n",
       "Precision     0.831876    0.822511\n",
       "ROC AUC       0.942845    0.941592"
      ]
     },
     "execution_count": 41,
     "metadata": {},
     "output_type": "execute_result"
    }
   ],
   "source": [
    "score(rf)"
   ]
  },
  {
   "cell_type": "code",
   "execution_count": 44,
   "metadata": {},
   "outputs": [
    {
     "data": {
      "text/plain": [
       "MLPClassifier(hidden_layer_sizes=75, max_iter=100)"
      ]
     },
     "execution_count": 44,
     "metadata": {},
     "output_type": "execute_result"
    }
   ],
   "source": [
    "mlp = MLPClassifier(max_iter = 100, hidden_layer_sizes = 75)\n",
    "mlp.fit(x_train, y_train)"
   ]
  },
  {
   "cell_type": "code",
   "execution_count": 45,
   "metadata": {},
   "outputs": [
    {
     "data": {
      "text/html": [
       "<div>\n",
       "<style scoped>\n",
       "    .dataframe tbody tr th:only-of-type {\n",
       "        vertical-align: middle;\n",
       "    }\n",
       "\n",
       "    .dataframe tbody tr th {\n",
       "        vertical-align: top;\n",
       "    }\n",
       "\n",
       "    .dataframe thead th {\n",
       "        text-align: right;\n",
       "    }\n",
       "</style>\n",
       "<table border=\"1\" class=\"dataframe\">\n",
       "  <thead>\n",
       "    <tr style=\"text-align: right;\">\n",
       "      <th></th>\n",
       "      <th>Train Score</th>\n",
       "      <th>Test Score</th>\n",
       "    </tr>\n",
       "  </thead>\n",
       "  <tbody>\n",
       "    <tr>\n",
       "      <th>Accuracy</th>\n",
       "      <td>0.933202</td>\n",
       "      <td>0.916363</td>\n",
       "    </tr>\n",
       "    <tr>\n",
       "      <th>Precision</th>\n",
       "      <td>0.749752</td>\n",
       "      <td>0.659546</td>\n",
       "    </tr>\n",
       "    <tr>\n",
       "      <th>ROC AUC</th>\n",
       "      <td>0.964136</td>\n",
       "      <td>0.947795</td>\n",
       "    </tr>\n",
       "  </tbody>\n",
       "</table>\n",
       "</div>"
      ],
      "text/plain": [
       "           Train Score  Test Score\n",
       "Accuracy      0.933202    0.916363\n",
       "Precision     0.749752    0.659546\n",
       "ROC AUC       0.964136    0.947795"
      ]
     },
     "execution_count": 45,
     "metadata": {},
     "output_type": "execute_result"
    }
   ],
   "source": [
    "score(mlp)"
   ]
  },
  {
   "cell_type": "code",
   "execution_count": 46,
   "metadata": {},
   "outputs": [
    {
     "name": "stdout",
     "output_type": "stream",
     "text": [
      "0:\tlearn: 0.6915916\ttotal: 187ms\tremaining: 3m 6s\n",
      "1:\tlearn: 0.6899756\ttotal: 217ms\tremaining: 1m 48s\n",
      "2:\tlearn: 0.6881690\ttotal: 244ms\tremaining: 1m 21s\n",
      "3:\tlearn: 0.6863229\ttotal: 275ms\tremaining: 1m 8s\n",
      "4:\tlearn: 0.6845625\ttotal: 310ms\tremaining: 1m 1s\n",
      "5:\tlearn: 0.6827969\ttotal: 339ms\tremaining: 56.2s\n",
      "6:\tlearn: 0.6813374\ttotal: 365ms\tremaining: 51.8s\n",
      "7:\tlearn: 0.6800973\ttotal: 400ms\tremaining: 49.6s\n",
      "8:\tlearn: 0.6783377\ttotal: 432ms\tremaining: 47.6s\n",
      "9:\tlearn: 0.6768132\ttotal: 458ms\tremaining: 45.4s\n",
      "10:\tlearn: 0.6753401\ttotal: 485ms\tremaining: 43.6s\n",
      "11:\tlearn: 0.6738142\ttotal: 512ms\tremaining: 42.2s\n",
      "12:\tlearn: 0.6723348\ttotal: 537ms\tremaining: 40.8s\n",
      "13:\tlearn: 0.6706857\ttotal: 571ms\tremaining: 40.2s\n",
      "14:\tlearn: 0.6692974\ttotal: 600ms\tremaining: 39.4s\n",
      "15:\tlearn: 0.6678300\ttotal: 628ms\tremaining: 38.6s\n",
      "16:\tlearn: 0.6664626\ttotal: 654ms\tremaining: 37.8s\n",
      "17:\tlearn: 0.6647831\ttotal: 681ms\tremaining: 37.2s\n",
      "18:\tlearn: 0.6633746\ttotal: 708ms\tremaining: 36.6s\n",
      "19:\tlearn: 0.6618809\ttotal: 735ms\tremaining: 36s\n",
      "20:\tlearn: 0.6604074\ttotal: 761ms\tremaining: 35.5s\n",
      "21:\tlearn: 0.6588643\ttotal: 795ms\tremaining: 35.3s\n",
      "22:\tlearn: 0.6572404\ttotal: 825ms\tremaining: 35s\n",
      "23:\tlearn: 0.6558539\ttotal: 851ms\tremaining: 34.6s\n",
      "24:\tlearn: 0.6544906\ttotal: 889ms\tremaining: 34.7s\n",
      "25:\tlearn: 0.6529979\ttotal: 918ms\tremaining: 34.4s\n",
      "26:\tlearn: 0.6515658\ttotal: 949ms\tremaining: 34.2s\n",
      "27:\tlearn: 0.6499232\ttotal: 994ms\tremaining: 34.5s\n",
      "28:\tlearn: 0.6484620\ttotal: 1.02s\tremaining: 34.2s\n",
      "29:\tlearn: 0.6469019\ttotal: 1.05s\tremaining: 33.9s\n",
      "30:\tlearn: 0.6453267\ttotal: 1.07s\tremaining: 33.6s\n",
      "31:\tlearn: 0.6439022\ttotal: 1.11s\tremaining: 33.5s\n",
      "32:\tlearn: 0.6423926\ttotal: 1.14s\tremaining: 33.3s\n",
      "33:\tlearn: 0.6409552\ttotal: 1.17s\tremaining: 33.3s\n",
      "34:\tlearn: 0.6395467\ttotal: 1.2s\tremaining: 33.1s\n",
      "35:\tlearn: 0.6378881\ttotal: 1.23s\tremaining: 32.8s\n",
      "36:\tlearn: 0.6365390\ttotal: 1.25s\tremaining: 32.6s\n",
      "37:\tlearn: 0.6351154\ttotal: 1.28s\tremaining: 32.4s\n",
      "38:\tlearn: 0.6333344\ttotal: 1.3s\tremaining: 32.1s\n",
      "39:\tlearn: 0.6319957\ttotal: 1.33s\tremaining: 32s\n",
      "40:\tlearn: 0.6306628\ttotal: 1.37s\tremaining: 32s\n",
      "41:\tlearn: 0.6292824\ttotal: 1.4s\tremaining: 31.8s\n",
      "42:\tlearn: 0.6279635\ttotal: 1.42s\tremaining: 31.7s\n",
      "43:\tlearn: 0.6264789\ttotal: 1.45s\tremaining: 31.5s\n",
      "44:\tlearn: 0.6251069\ttotal: 1.47s\tremaining: 31.3s\n",
      "45:\tlearn: 0.6240250\ttotal: 1.5s\tremaining: 31.1s\n",
      "46:\tlearn: 0.6227252\ttotal: 1.53s\tremaining: 31s\n",
      "47:\tlearn: 0.6210404\ttotal: 1.57s\tremaining: 31.1s\n",
      "48:\tlearn: 0.6197271\ttotal: 1.6s\tremaining: 31s\n",
      "49:\tlearn: 0.6183460\ttotal: 1.62s\tremaining: 30.8s\n",
      "50:\tlearn: 0.6171682\ttotal: 1.65s\tremaining: 30.7s\n",
      "51:\tlearn: 0.6158315\ttotal: 1.68s\tremaining: 30.5s\n",
      "52:\tlearn: 0.6145414\ttotal: 1.7s\tremaining: 30.4s\n",
      "53:\tlearn: 0.6130394\ttotal: 1.73s\tremaining: 30.3s\n",
      "54:\tlearn: 0.6114797\ttotal: 1.77s\tremaining: 30.4s\n",
      "55:\tlearn: 0.6099731\ttotal: 1.8s\tremaining: 30.3s\n",
      "56:\tlearn: 0.6086505\ttotal: 1.82s\tremaining: 30.2s\n",
      "57:\tlearn: 0.6073854\ttotal: 1.85s\tremaining: 30.1s\n",
      "58:\tlearn: 0.6062671\ttotal: 1.88s\tremaining: 29.9s\n",
      "59:\tlearn: 0.6050737\ttotal: 1.9s\tremaining: 29.8s\n",
      "60:\tlearn: 0.6037730\ttotal: 1.93s\tremaining: 29.7s\n",
      "61:\tlearn: 0.6024710\ttotal: 1.97s\tremaining: 29.8s\n",
      "62:\tlearn: 0.6007903\ttotal: 2s\tremaining: 29.8s\n",
      "63:\tlearn: 0.5993596\ttotal: 2.03s\tremaining: 29.7s\n",
      "64:\tlearn: 0.5977996\ttotal: 2.06s\tremaining: 29.6s\n",
      "65:\tlearn: 0.5964142\ttotal: 2.09s\tremaining: 29.6s\n",
      "66:\tlearn: 0.5952515\ttotal: 2.12s\tremaining: 29.5s\n",
      "67:\tlearn: 0.5939955\ttotal: 2.16s\tremaining: 29.6s\n",
      "68:\tlearn: 0.5925784\ttotal: 2.19s\tremaining: 29.5s\n",
      "69:\tlearn: 0.5912946\ttotal: 2.21s\tremaining: 29.4s\n",
      "70:\tlearn: 0.5902249\ttotal: 2.24s\tremaining: 29.3s\n",
      "71:\tlearn: 0.5889788\ttotal: 2.28s\tremaining: 29.4s\n",
      "72:\tlearn: 0.5875352\ttotal: 2.31s\tremaining: 29.3s\n",
      "73:\tlearn: 0.5864151\ttotal: 2.34s\tremaining: 29.3s\n",
      "74:\tlearn: 0.5852998\ttotal: 2.37s\tremaining: 29.2s\n",
      "75:\tlearn: 0.5840947\ttotal: 2.41s\tremaining: 29.3s\n",
      "76:\tlearn: 0.5827135\ttotal: 2.44s\tremaining: 29.3s\n",
      "77:\tlearn: 0.5815358\ttotal: 2.48s\tremaining: 29.3s\n",
      "78:\tlearn: 0.5803510\ttotal: 2.52s\tremaining: 29.3s\n",
      "79:\tlearn: 0.5792019\ttotal: 2.57s\tremaining: 29.6s\n",
      "80:\tlearn: 0.5780686\ttotal: 2.62s\tremaining: 29.7s\n",
      "81:\tlearn: 0.5766861\ttotal: 2.67s\tremaining: 29.8s\n",
      "82:\tlearn: 0.5755894\ttotal: 2.7s\tremaining: 29.8s\n",
      "83:\tlearn: 0.5741345\ttotal: 2.74s\tremaining: 29.9s\n",
      "84:\tlearn: 0.5728905\ttotal: 2.78s\tremaining: 29.9s\n",
      "85:\tlearn: 0.5712706\ttotal: 2.81s\tremaining: 29.9s\n",
      "86:\tlearn: 0.5701134\ttotal: 2.84s\tremaining: 29.8s\n",
      "87:\tlearn: 0.5687275\ttotal: 2.87s\tremaining: 29.8s\n",
      "88:\tlearn: 0.5674654\ttotal: 2.91s\tremaining: 29.7s\n",
      "89:\tlearn: 0.5663508\ttotal: 2.95s\tremaining: 29.8s\n",
      "90:\tlearn: 0.5649867\ttotal: 3s\tremaining: 30s\n",
      "91:\tlearn: 0.5639629\ttotal: 3.04s\tremaining: 30s\n",
      "92:\tlearn: 0.5628015\ttotal: 3.07s\tremaining: 29.9s\n",
      "93:\tlearn: 0.5618199\ttotal: 3.09s\tremaining: 29.8s\n",
      "94:\tlearn: 0.5607787\ttotal: 3.13s\tremaining: 29.9s\n",
      "95:\tlearn: 0.5595515\ttotal: 3.19s\tremaining: 30.1s\n",
      "96:\tlearn: 0.5584351\ttotal: 3.23s\tremaining: 30s\n",
      "97:\tlearn: 0.5571307\ttotal: 3.26s\tremaining: 30s\n",
      "98:\tlearn: 0.5560127\ttotal: 3.29s\tremaining: 29.9s\n",
      "99:\tlearn: 0.5548133\ttotal: 3.32s\tremaining: 29.9s\n",
      "100:\tlearn: 0.5539232\ttotal: 3.36s\tremaining: 29.9s\n",
      "101:\tlearn: 0.5528144\ttotal: 3.42s\tremaining: 30.1s\n",
      "102:\tlearn: 0.5515192\ttotal: 3.47s\tremaining: 30.2s\n",
      "103:\tlearn: 0.5502402\ttotal: 3.5s\tremaining: 30.2s\n",
      "104:\tlearn: 0.5491277\ttotal: 3.55s\tremaining: 30.2s\n",
      "105:\tlearn: 0.5481532\ttotal: 3.58s\tremaining: 30.2s\n",
      "106:\tlearn: 0.5471089\ttotal: 3.61s\tremaining: 30.1s\n",
      "107:\tlearn: 0.5460710\ttotal: 3.65s\tremaining: 30.1s\n",
      "108:\tlearn: 0.5449926\ttotal: 3.67s\tremaining: 30s\n",
      "109:\tlearn: 0.5439214\ttotal: 3.7s\tremaining: 29.9s\n",
      "110:\tlearn: 0.5426868\ttotal: 3.73s\tremaining: 29.9s\n",
      "111:\tlearn: 0.5416042\ttotal: 3.77s\tremaining: 29.9s\n",
      "112:\tlearn: 0.5403953\ttotal: 3.8s\tremaining: 29.8s\n",
      "113:\tlearn: 0.5393644\ttotal: 3.82s\tremaining: 29.7s\n",
      "114:\tlearn: 0.5383387\ttotal: 3.85s\tremaining: 29.6s\n",
      "115:\tlearn: 0.5372524\ttotal: 3.88s\tremaining: 29.5s\n",
      "116:\tlearn: 0.5361165\ttotal: 3.91s\tremaining: 29.5s\n",
      "117:\tlearn: 0.5350564\ttotal: 3.94s\tremaining: 29.5s\n",
      "118:\tlearn: 0.5339980\ttotal: 3.97s\tremaining: 29.4s\n",
      "119:\tlearn: 0.5330850\ttotal: 4.01s\tremaining: 29.4s\n",
      "120:\tlearn: 0.5320147\ttotal: 4.05s\tremaining: 29.4s\n",
      "121:\tlearn: 0.5308748\ttotal: 4.08s\tremaining: 29.3s\n",
      "122:\tlearn: 0.5296386\ttotal: 4.11s\tremaining: 29.3s\n",
      "123:\tlearn: 0.5285698\ttotal: 4.14s\tremaining: 29.2s\n",
      "124:\tlearn: 0.5275180\ttotal: 4.18s\tremaining: 29.3s\n",
      "125:\tlearn: 0.5265551\ttotal: 4.21s\tremaining: 29.2s\n",
      "126:\tlearn: 0.5253405\ttotal: 4.24s\tremaining: 29.2s\n",
      "127:\tlearn: 0.5243375\ttotal: 4.29s\tremaining: 29.2s\n",
      "128:\tlearn: 0.5232219\ttotal: 4.32s\tremaining: 29.1s\n",
      "129:\tlearn: 0.5222187\ttotal: 4.34s\tremaining: 29.1s\n",
      "130:\tlearn: 0.5211873\ttotal: 4.39s\tremaining: 29.1s\n",
      "131:\tlearn: 0.5202744\ttotal: 4.43s\tremaining: 29.1s\n",
      "132:\tlearn: 0.5192468\ttotal: 4.46s\tremaining: 29.1s\n",
      "133:\tlearn: 0.5182163\ttotal: 4.5s\tremaining: 29s\n",
      "134:\tlearn: 0.5172613\ttotal: 4.53s\tremaining: 29s\n",
      "135:\tlearn: 0.5163554\ttotal: 4.58s\tremaining: 29.1s\n",
      "136:\tlearn: 0.5153394\ttotal: 4.61s\tremaining: 29.1s\n",
      "137:\tlearn: 0.5143415\ttotal: 4.64s\tremaining: 29s\n",
      "138:\tlearn: 0.5133223\ttotal: 4.67s\tremaining: 28.9s\n",
      "139:\tlearn: 0.5123754\ttotal: 4.72s\tremaining: 29s\n",
      "140:\tlearn: 0.5112084\ttotal: 4.76s\tremaining: 29s\n",
      "141:\tlearn: 0.5102794\ttotal: 4.79s\tremaining: 29s\n",
      "142:\tlearn: 0.5091319\ttotal: 4.82s\tremaining: 28.9s\n",
      "143:\tlearn: 0.5079985\ttotal: 4.85s\tremaining: 28.8s\n",
      "144:\tlearn: 0.5068832\ttotal: 4.88s\tremaining: 28.8s\n",
      "145:\tlearn: 0.5059801\ttotal: 4.92s\tremaining: 28.8s\n",
      "146:\tlearn: 0.5051019\ttotal: 4.95s\tremaining: 28.7s\n",
      "147:\tlearn: 0.5040401\ttotal: 4.98s\tremaining: 28.7s\n",
      "148:\tlearn: 0.5030935\ttotal: 5.02s\tremaining: 28.7s\n",
      "149:\tlearn: 0.5020061\ttotal: 5.05s\tremaining: 28.6s\n",
      "150:\tlearn: 0.5010692\ttotal: 5.08s\tremaining: 28.5s\n",
      "151:\tlearn: 0.5001370\ttotal: 5.12s\tremaining: 28.6s\n",
      "152:\tlearn: 0.4992451\ttotal: 5.15s\tremaining: 28.5s\n",
      "153:\tlearn: 0.4982290\ttotal: 5.17s\tremaining: 28.4s\n",
      "154:\tlearn: 0.4973299\ttotal: 5.2s\tremaining: 28.4s\n",
      "155:\tlearn: 0.4964124\ttotal: 5.23s\tremaining: 28.3s\n",
      "156:\tlearn: 0.4955081\ttotal: 5.25s\tremaining: 28.2s\n",
      "157:\tlearn: 0.4944411\ttotal: 5.28s\tremaining: 28.2s\n",
      "158:\tlearn: 0.4935312\ttotal: 5.31s\tremaining: 28.1s\n",
      "159:\tlearn: 0.4924064\ttotal: 5.35s\tremaining: 28.1s\n",
      "160:\tlearn: 0.4915104\ttotal: 5.38s\tremaining: 28s\n",
      "161:\tlearn: 0.4905965\ttotal: 5.41s\tremaining: 28s\n",
      "162:\tlearn: 0.4899279\ttotal: 5.43s\tremaining: 27.9s\n",
      "163:\tlearn: 0.4890776\ttotal: 5.47s\tremaining: 27.9s\n"
     ]
    },
    {
     "name": "stdout",
     "output_type": "stream",
     "text": [
      "164:\tlearn: 0.4881151\ttotal: 5.55s\tremaining: 28.1s\n",
      "165:\tlearn: 0.4871095\ttotal: 5.61s\tremaining: 28.2s\n",
      "166:\tlearn: 0.4861326\ttotal: 5.64s\tremaining: 28.2s\n",
      "167:\tlearn: 0.4851227\ttotal: 5.68s\tremaining: 28.1s\n",
      "168:\tlearn: 0.4842791\ttotal: 5.72s\tremaining: 28.1s\n",
      "169:\tlearn: 0.4833705\ttotal: 5.77s\tremaining: 28.2s\n",
      "170:\tlearn: 0.4823180\ttotal: 5.82s\tremaining: 28.2s\n",
      "171:\tlearn: 0.4813805\ttotal: 5.85s\tremaining: 28.2s\n",
      "172:\tlearn: 0.4805246\ttotal: 5.89s\tremaining: 28.2s\n",
      "173:\tlearn: 0.4795052\ttotal: 5.92s\tremaining: 28.1s\n",
      "174:\tlearn: 0.4785283\ttotal: 5.95s\tremaining: 28s\n",
      "175:\tlearn: 0.4775970\ttotal: 5.99s\tremaining: 28s\n",
      "176:\tlearn: 0.4767761\ttotal: 6.01s\tremaining: 28s\n",
      "177:\tlearn: 0.4757759\ttotal: 6.04s\tremaining: 27.9s\n",
      "178:\tlearn: 0.4749503\ttotal: 6.07s\tremaining: 27.8s\n",
      "179:\tlearn: 0.4741313\ttotal: 6.1s\tremaining: 27.8s\n",
      "180:\tlearn: 0.4732817\ttotal: 6.13s\tremaining: 27.7s\n",
      "181:\tlearn: 0.4722374\ttotal: 6.18s\tremaining: 27.8s\n",
      "182:\tlearn: 0.4713849\ttotal: 6.21s\tremaining: 27.7s\n",
      "183:\tlearn: 0.4703202\ttotal: 6.24s\tremaining: 27.7s\n",
      "184:\tlearn: 0.4696260\ttotal: 6.26s\tremaining: 27.6s\n",
      "185:\tlearn: 0.4687720\ttotal: 6.3s\tremaining: 27.6s\n",
      "186:\tlearn: 0.4679028\ttotal: 6.33s\tremaining: 27.5s\n",
      "187:\tlearn: 0.4669254\ttotal: 6.37s\tremaining: 27.5s\n",
      "188:\tlearn: 0.4661193\ttotal: 6.39s\tremaining: 27.4s\n",
      "189:\tlearn: 0.4653848\ttotal: 6.43s\tremaining: 27.4s\n",
      "190:\tlearn: 0.4645729\ttotal: 6.46s\tremaining: 27.4s\n",
      "191:\tlearn: 0.4637867\ttotal: 6.49s\tremaining: 27.3s\n",
      "192:\tlearn: 0.4630636\ttotal: 6.52s\tremaining: 27.3s\n",
      "193:\tlearn: 0.4622708\ttotal: 6.56s\tremaining: 27.2s\n",
      "194:\tlearn: 0.4614902\ttotal: 6.59s\tremaining: 27.2s\n",
      "195:\tlearn: 0.4606595\ttotal: 6.62s\tremaining: 27.1s\n",
      "196:\tlearn: 0.4598360\ttotal: 6.64s\tremaining: 27.1s\n",
      "197:\tlearn: 0.4589723\ttotal: 6.67s\tremaining: 27s\n",
      "198:\tlearn: 0.4581485\ttotal: 6.7s\tremaining: 27s\n",
      "199:\tlearn: 0.4573586\ttotal: 6.73s\tremaining: 26.9s\n",
      "200:\tlearn: 0.4563900\ttotal: 6.76s\tremaining: 26.9s\n",
      "201:\tlearn: 0.4554183\ttotal: 6.79s\tremaining: 26.8s\n",
      "202:\tlearn: 0.4546502\ttotal: 6.82s\tremaining: 26.8s\n",
      "203:\tlearn: 0.4538640\ttotal: 6.85s\tremaining: 26.7s\n",
      "204:\tlearn: 0.4529320\ttotal: 6.88s\tremaining: 26.7s\n",
      "205:\tlearn: 0.4521660\ttotal: 6.92s\tremaining: 26.7s\n",
      "206:\tlearn: 0.4511953\ttotal: 6.95s\tremaining: 26.6s\n",
      "207:\tlearn: 0.4503020\ttotal: 6.98s\tremaining: 26.6s\n",
      "208:\tlearn: 0.4495443\ttotal: 7.01s\tremaining: 26.5s\n",
      "209:\tlearn: 0.4486627\ttotal: 7.04s\tremaining: 26.5s\n",
      "210:\tlearn: 0.4478662\ttotal: 7.08s\tremaining: 26.5s\n",
      "211:\tlearn: 0.4470359\ttotal: 7.12s\tremaining: 26.4s\n",
      "212:\tlearn: 0.4460984\ttotal: 7.14s\tremaining: 26.4s\n",
      "213:\tlearn: 0.4454236\ttotal: 7.17s\tremaining: 26.4s\n",
      "214:\tlearn: 0.4446982\ttotal: 7.2s\tremaining: 26.3s\n",
      "215:\tlearn: 0.4438504\ttotal: 7.24s\tremaining: 26.3s\n",
      "216:\tlearn: 0.4431140\ttotal: 7.27s\tremaining: 26.2s\n",
      "217:\tlearn: 0.4422436\ttotal: 7.29s\tremaining: 26.2s\n",
      "218:\tlearn: 0.4415214\ttotal: 7.34s\tremaining: 26.2s\n",
      "219:\tlearn: 0.4408250\ttotal: 7.37s\tremaining: 26.1s\n",
      "220:\tlearn: 0.4400638\ttotal: 7.4s\tremaining: 26.1s\n",
      "221:\tlearn: 0.4393085\ttotal: 7.42s\tremaining: 26s\n",
      "222:\tlearn: 0.4384573\ttotal: 7.45s\tremaining: 26s\n",
      "223:\tlearn: 0.4375636\ttotal: 7.48s\tremaining: 25.9s\n",
      "224:\tlearn: 0.4370882\ttotal: 7.5s\tremaining: 25.9s\n",
      "225:\tlearn: 0.4365064\ttotal: 7.55s\tremaining: 25.9s\n",
      "226:\tlearn: 0.4356547\ttotal: 7.58s\tremaining: 25.8s\n",
      "227:\tlearn: 0.4349453\ttotal: 7.61s\tremaining: 25.8s\n",
      "228:\tlearn: 0.4341450\ttotal: 7.64s\tremaining: 25.7s\n",
      "229:\tlearn: 0.4334239\ttotal: 7.67s\tremaining: 25.7s\n",
      "230:\tlearn: 0.4325477\ttotal: 7.72s\tremaining: 25.7s\n",
      "231:\tlearn: 0.4317039\ttotal: 7.75s\tremaining: 25.7s\n",
      "232:\tlearn: 0.4310194\ttotal: 7.79s\tremaining: 25.6s\n",
      "233:\tlearn: 0.4302187\ttotal: 7.81s\tremaining: 25.6s\n",
      "234:\tlearn: 0.4294765\ttotal: 7.84s\tremaining: 25.5s\n",
      "235:\tlearn: 0.4288400\ttotal: 7.88s\tremaining: 25.5s\n",
      "236:\tlearn: 0.4281346\ttotal: 7.92s\tremaining: 25.5s\n",
      "237:\tlearn: 0.4275718\ttotal: 7.95s\tremaining: 25.5s\n",
      "238:\tlearn: 0.4267405\ttotal: 7.98s\tremaining: 25.4s\n",
      "239:\tlearn: 0.4260622\ttotal: 8.01s\tremaining: 25.4s\n",
      "240:\tlearn: 0.4253162\ttotal: 8.04s\tremaining: 25.3s\n",
      "241:\tlearn: 0.4246810\ttotal: 8.07s\tremaining: 25.3s\n",
      "242:\tlearn: 0.4239913\ttotal: 8.1s\tremaining: 25.2s\n",
      "243:\tlearn: 0.4232657\ttotal: 8.14s\tremaining: 25.2s\n",
      "244:\tlearn: 0.4225887\ttotal: 8.17s\tremaining: 25.2s\n",
      "245:\tlearn: 0.4218808\ttotal: 8.2s\tremaining: 25.1s\n",
      "246:\tlearn: 0.4210792\ttotal: 8.23s\tremaining: 25.1s\n",
      "247:\tlearn: 0.4204101\ttotal: 8.26s\tremaining: 25s\n",
      "248:\tlearn: 0.4196793\ttotal: 8.29s\tremaining: 25s\n",
      "249:\tlearn: 0.4190440\ttotal: 8.31s\tremaining: 24.9s\n",
      "250:\tlearn: 0.4185626\ttotal: 8.35s\tremaining: 24.9s\n",
      "251:\tlearn: 0.4178146\ttotal: 8.38s\tremaining: 24.9s\n",
      "252:\tlearn: 0.4172567\ttotal: 8.42s\tremaining: 24.8s\n",
      "253:\tlearn: 0.4167008\ttotal: 8.44s\tremaining: 24.8s\n",
      "254:\tlearn: 0.4159088\ttotal: 8.51s\tremaining: 24.9s\n",
      "255:\tlearn: 0.4152322\ttotal: 8.55s\tremaining: 24.8s\n",
      "256:\tlearn: 0.4143980\ttotal: 8.59s\tremaining: 24.8s\n",
      "257:\tlearn: 0.4137697\ttotal: 8.65s\tremaining: 24.9s\n",
      "258:\tlearn: 0.4131906\ttotal: 8.68s\tremaining: 24.8s\n",
      "259:\tlearn: 0.4124128\ttotal: 8.74s\tremaining: 24.9s\n",
      "260:\tlearn: 0.4119230\ttotal: 8.79s\tremaining: 24.9s\n",
      "261:\tlearn: 0.4112981\ttotal: 8.83s\tremaining: 24.9s\n",
      "262:\tlearn: 0.4107327\ttotal: 8.88s\tremaining: 24.9s\n",
      "263:\tlearn: 0.4100051\ttotal: 8.92s\tremaining: 24.9s\n",
      "264:\tlearn: 0.4093323\ttotal: 8.97s\tremaining: 24.9s\n",
      "265:\tlearn: 0.4087453\ttotal: 9.01s\tremaining: 24.9s\n",
      "266:\tlearn: 0.4080189\ttotal: 9.06s\tremaining: 24.9s\n",
      "267:\tlearn: 0.4073711\ttotal: 9.12s\tremaining: 24.9s\n",
      "268:\tlearn: 0.4067956\ttotal: 9.16s\tremaining: 24.9s\n",
      "269:\tlearn: 0.4061380\ttotal: 9.2s\tremaining: 24.9s\n",
      "270:\tlearn: 0.4055225\ttotal: 9.23s\tremaining: 24.8s\n",
      "271:\tlearn: 0.4049003\ttotal: 9.28s\tremaining: 24.9s\n",
      "272:\tlearn: 0.4043022\ttotal: 9.35s\tremaining: 24.9s\n",
      "273:\tlearn: 0.4037100\ttotal: 9.38s\tremaining: 24.9s\n",
      "274:\tlearn: 0.4030618\ttotal: 9.41s\tremaining: 24.8s\n",
      "275:\tlearn: 0.4025060\ttotal: 9.44s\tremaining: 24.8s\n",
      "276:\tlearn: 0.4019328\ttotal: 9.46s\tremaining: 24.7s\n",
      "277:\tlearn: 0.4013663\ttotal: 9.49s\tremaining: 24.6s\n",
      "278:\tlearn: 0.4007757\ttotal: 9.52s\tremaining: 24.6s\n",
      "279:\tlearn: 0.4001841\ttotal: 9.55s\tremaining: 24.5s\n",
      "280:\tlearn: 0.3997631\ttotal: 9.57s\tremaining: 24.5s\n",
      "281:\tlearn: 0.3991313\ttotal: 9.6s\tremaining: 24.5s\n",
      "282:\tlearn: 0.3986533\ttotal: 9.63s\tremaining: 24.4s\n",
      "283:\tlearn: 0.3980828\ttotal: 9.66s\tremaining: 24.3s\n",
      "284:\tlearn: 0.3974892\ttotal: 9.69s\tremaining: 24.3s\n",
      "285:\tlearn: 0.3969716\ttotal: 9.71s\tremaining: 24.3s\n",
      "286:\tlearn: 0.3962702\ttotal: 9.74s\tremaining: 24.2s\n",
      "287:\tlearn: 0.3957323\ttotal: 9.79s\tremaining: 24.2s\n",
      "288:\tlearn: 0.3952146\ttotal: 9.81s\tremaining: 24.1s\n",
      "289:\tlearn: 0.3946663\ttotal: 9.85s\tremaining: 24.1s\n",
      "290:\tlearn: 0.3940628\ttotal: 9.87s\tremaining: 24.1s\n",
      "291:\tlearn: 0.3933592\ttotal: 9.9s\tremaining: 24s\n",
      "292:\tlearn: 0.3927910\ttotal: 9.94s\tremaining: 24s\n",
      "293:\tlearn: 0.3921709\ttotal: 9.98s\tremaining: 24s\n",
      "294:\tlearn: 0.3915986\ttotal: 10s\tremaining: 23.9s\n",
      "295:\tlearn: 0.3907386\ttotal: 10s\tremaining: 23.9s\n",
      "296:\tlearn: 0.3901449\ttotal: 10.1s\tremaining: 23.9s\n",
      "297:\tlearn: 0.3894756\ttotal: 10.1s\tremaining: 23.8s\n",
      "298:\tlearn: 0.3888458\ttotal: 10.2s\tremaining: 23.8s\n",
      "299:\tlearn: 0.3882881\ttotal: 10.2s\tremaining: 23.8s\n",
      "300:\tlearn: 0.3878163\ttotal: 10.2s\tremaining: 23.7s\n",
      "301:\tlearn: 0.3872240\ttotal: 10.3s\tremaining: 23.7s\n",
      "302:\tlearn: 0.3867005\ttotal: 10.3s\tremaining: 23.7s\n",
      "303:\tlearn: 0.3861845\ttotal: 10.3s\tremaining: 23.6s\n",
      "304:\tlearn: 0.3856060\ttotal: 10.4s\tremaining: 23.6s\n",
      "305:\tlearn: 0.3850681\ttotal: 10.4s\tremaining: 23.6s\n",
      "306:\tlearn: 0.3843592\ttotal: 10.5s\tremaining: 23.6s\n",
      "307:\tlearn: 0.3838273\ttotal: 10.5s\tremaining: 23.6s\n",
      "308:\tlearn: 0.3832788\ttotal: 10.5s\tremaining: 23.5s\n",
      "309:\tlearn: 0.3827744\ttotal: 10.5s\tremaining: 23.5s\n",
      "310:\tlearn: 0.3823247\ttotal: 10.6s\tremaining: 23.5s\n",
      "311:\tlearn: 0.3815790\ttotal: 10.6s\tremaining: 23.4s\n",
      "312:\tlearn: 0.3810837\ttotal: 10.7s\tremaining: 23.4s\n",
      "313:\tlearn: 0.3805633\ttotal: 10.7s\tremaining: 23.4s\n",
      "314:\tlearn: 0.3800956\ttotal: 10.7s\tremaining: 23.3s\n",
      "315:\tlearn: 0.3795513\ttotal: 10.8s\tremaining: 23.3s\n",
      "316:\tlearn: 0.3790679\ttotal: 10.8s\tremaining: 23.3s\n",
      "317:\tlearn: 0.3784360\ttotal: 10.9s\tremaining: 23.3s\n",
      "318:\tlearn: 0.3779755\ttotal: 10.9s\tremaining: 23.2s\n",
      "319:\tlearn: 0.3774630\ttotal: 10.9s\tremaining: 23.2s\n",
      "320:\tlearn: 0.3769817\ttotal: 10.9s\tremaining: 23.1s\n",
      "321:\tlearn: 0.3764862\ttotal: 11s\tremaining: 23.1s\n",
      "322:\tlearn: 0.3759254\ttotal: 11s\tremaining: 23.1s\n",
      "323:\tlearn: 0.3752853\ttotal: 11s\tremaining: 23s\n",
      "324:\tlearn: 0.3747005\ttotal: 11.1s\tremaining: 23s\n",
      "325:\tlearn: 0.3742712\ttotal: 11.1s\tremaining: 22.9s\n",
      "326:\tlearn: 0.3737663\ttotal: 11.1s\tremaining: 22.9s\n",
      "327:\tlearn: 0.3733126\ttotal: 11.1s\tremaining: 22.8s\n"
     ]
    },
    {
     "name": "stdout",
     "output_type": "stream",
     "text": [
      "328:\tlearn: 0.3726936\ttotal: 11.2s\tremaining: 22.8s\n",
      "329:\tlearn: 0.3722016\ttotal: 11.2s\tremaining: 22.8s\n",
      "330:\tlearn: 0.3717252\ttotal: 11.2s\tremaining: 22.7s\n",
      "331:\tlearn: 0.3712547\ttotal: 11.3s\tremaining: 22.7s\n",
      "332:\tlearn: 0.3706982\ttotal: 11.3s\tremaining: 22.6s\n",
      "333:\tlearn: 0.3702121\ttotal: 11.3s\tremaining: 22.6s\n",
      "334:\tlearn: 0.3697117\ttotal: 11.4s\tremaining: 22.6s\n",
      "335:\tlearn: 0.3692022\ttotal: 11.4s\tremaining: 22.5s\n",
      "336:\tlearn: 0.3686938\ttotal: 11.4s\tremaining: 22.5s\n",
      "337:\tlearn: 0.3681807\ttotal: 11.4s\tremaining: 22.4s\n",
      "338:\tlearn: 0.3677524\ttotal: 11.5s\tremaining: 22.4s\n",
      "339:\tlearn: 0.3672359\ttotal: 11.5s\tremaining: 22.3s\n",
      "340:\tlearn: 0.3666620\ttotal: 11.5s\tremaining: 22.3s\n",
      "341:\tlearn: 0.3662189\ttotal: 11.6s\tremaining: 22.3s\n",
      "342:\tlearn: 0.3656724\ttotal: 11.6s\tremaining: 22.2s\n",
      "343:\tlearn: 0.3652136\ttotal: 11.6s\tremaining: 22.2s\n",
      "344:\tlearn: 0.3646426\ttotal: 11.7s\tremaining: 22.1s\n",
      "345:\tlearn: 0.3640509\ttotal: 11.7s\tremaining: 22.1s\n",
      "346:\tlearn: 0.3634725\ttotal: 11.7s\tremaining: 22s\n",
      "347:\tlearn: 0.3630062\ttotal: 11.7s\tremaining: 22s\n",
      "348:\tlearn: 0.3623764\ttotal: 11.8s\tremaining: 22s\n",
      "349:\tlearn: 0.3619304\ttotal: 11.8s\tremaining: 21.9s\n",
      "350:\tlearn: 0.3614531\ttotal: 11.8s\tremaining: 21.9s\n",
      "351:\tlearn: 0.3609383\ttotal: 11.9s\tremaining: 21.8s\n",
      "352:\tlearn: 0.3604404\ttotal: 11.9s\tremaining: 21.8s\n",
      "353:\tlearn: 0.3599658\ttotal: 11.9s\tremaining: 21.7s\n",
      "354:\tlearn: 0.3594534\ttotal: 11.9s\tremaining: 21.7s\n",
      "355:\tlearn: 0.3589958\ttotal: 12s\tremaining: 21.7s\n",
      "356:\tlearn: 0.3585409\ttotal: 12s\tremaining: 21.6s\n",
      "357:\tlearn: 0.3580828\ttotal: 12s\tremaining: 21.6s\n",
      "358:\tlearn: 0.3575118\ttotal: 12.1s\tremaining: 21.5s\n",
      "359:\tlearn: 0.3570193\ttotal: 12.1s\tremaining: 21.5s\n",
      "360:\tlearn: 0.3566270\ttotal: 12.1s\tremaining: 21.4s\n",
      "361:\tlearn: 0.3562279\ttotal: 12.1s\tremaining: 21.4s\n",
      "362:\tlearn: 0.3557331\ttotal: 12.2s\tremaining: 21.4s\n",
      "363:\tlearn: 0.3552446\ttotal: 12.2s\tremaining: 21.3s\n",
      "364:\tlearn: 0.3547624\ttotal: 12.2s\tremaining: 21.3s\n",
      "365:\tlearn: 0.3544245\ttotal: 12.3s\tremaining: 21.2s\n",
      "366:\tlearn: 0.3539534\ttotal: 12.3s\tremaining: 21.2s\n",
      "367:\tlearn: 0.3534963\ttotal: 12.3s\tremaining: 21.1s\n",
      "368:\tlearn: 0.3531143\ttotal: 12.3s\tremaining: 21.1s\n",
      "369:\tlearn: 0.3526561\ttotal: 12.4s\tremaining: 21.1s\n",
      "370:\tlearn: 0.3521754\ttotal: 12.4s\tremaining: 21s\n",
      "371:\tlearn: 0.3516748\ttotal: 12.4s\tremaining: 21s\n",
      "372:\tlearn: 0.3512992\ttotal: 12.5s\tremaining: 20.9s\n",
      "373:\tlearn: 0.3508880\ttotal: 12.5s\tremaining: 20.9s\n",
      "374:\tlearn: 0.3505570\ttotal: 12.5s\tremaining: 20.8s\n",
      "375:\tlearn: 0.3501683\ttotal: 12.5s\tremaining: 20.8s\n",
      "376:\tlearn: 0.3497543\ttotal: 12.6s\tremaining: 20.8s\n",
      "377:\tlearn: 0.3493824\ttotal: 12.6s\tremaining: 20.7s\n",
      "378:\tlearn: 0.3489247\ttotal: 12.6s\tremaining: 20.7s\n",
      "379:\tlearn: 0.3485081\ttotal: 12.7s\tremaining: 20.6s\n",
      "380:\tlearn: 0.3481191\ttotal: 12.7s\tremaining: 20.6s\n",
      "381:\tlearn: 0.3476313\ttotal: 12.7s\tremaining: 20.6s\n",
      "382:\tlearn: 0.3472091\ttotal: 12.7s\tremaining: 20.5s\n",
      "383:\tlearn: 0.3467968\ttotal: 12.8s\tremaining: 20.5s\n",
      "384:\tlearn: 0.3462653\ttotal: 12.8s\tremaining: 20.4s\n",
      "385:\tlearn: 0.3458623\ttotal: 12.8s\tremaining: 20.4s\n",
      "386:\tlearn: 0.3453520\ttotal: 12.9s\tremaining: 20.4s\n",
      "387:\tlearn: 0.3449713\ttotal: 12.9s\tremaining: 20.3s\n",
      "388:\tlearn: 0.3444775\ttotal: 12.9s\tremaining: 20.3s\n",
      "389:\tlearn: 0.3440604\ttotal: 12.9s\tremaining: 20.2s\n",
      "390:\tlearn: 0.3436238\ttotal: 13s\tremaining: 20.2s\n",
      "391:\tlearn: 0.3432188\ttotal: 13s\tremaining: 20.2s\n",
      "392:\tlearn: 0.3427927\ttotal: 13s\tremaining: 20.1s\n",
      "393:\tlearn: 0.3423750\ttotal: 13.1s\tremaining: 20.1s\n",
      "394:\tlearn: 0.3418867\ttotal: 13.1s\tremaining: 20s\n",
      "395:\tlearn: 0.3415019\ttotal: 13.1s\tremaining: 20s\n",
      "396:\tlearn: 0.3411015\ttotal: 13.1s\tremaining: 20s\n",
      "397:\tlearn: 0.3407103\ttotal: 13.2s\tremaining: 19.9s\n",
      "398:\tlearn: 0.3403780\ttotal: 13.2s\tremaining: 19.9s\n",
      "399:\tlearn: 0.3399605\ttotal: 13.2s\tremaining: 19.8s\n",
      "400:\tlearn: 0.3395915\ttotal: 13.3s\tremaining: 19.8s\n",
      "401:\tlearn: 0.3391906\ttotal: 13.3s\tremaining: 19.8s\n",
      "402:\tlearn: 0.3387508\ttotal: 13.3s\tremaining: 19.7s\n",
      "403:\tlearn: 0.3383578\ttotal: 13.3s\tremaining: 19.7s\n",
      "404:\tlearn: 0.3380053\ttotal: 13.4s\tremaining: 19.7s\n",
      "405:\tlearn: 0.3375405\ttotal: 13.4s\tremaining: 19.6s\n",
      "406:\tlearn: 0.3371624\ttotal: 13.4s\tremaining: 19.6s\n",
      "407:\tlearn: 0.3367897\ttotal: 13.5s\tremaining: 19.5s\n",
      "408:\tlearn: 0.3364513\ttotal: 13.5s\tremaining: 19.5s\n",
      "409:\tlearn: 0.3360536\ttotal: 13.5s\tremaining: 19.5s\n",
      "410:\tlearn: 0.3356727\ttotal: 13.5s\tremaining: 19.4s\n",
      "411:\tlearn: 0.3353159\ttotal: 13.6s\tremaining: 19.4s\n",
      "412:\tlearn: 0.3348347\ttotal: 13.6s\tremaining: 19.3s\n",
      "413:\tlearn: 0.3344191\ttotal: 13.6s\tremaining: 19.3s\n",
      "414:\tlearn: 0.3340243\ttotal: 13.7s\tremaining: 19.3s\n",
      "415:\tlearn: 0.3337053\ttotal: 13.7s\tremaining: 19.2s\n",
      "416:\tlearn: 0.3332581\ttotal: 13.7s\tremaining: 19.2s\n",
      "417:\tlearn: 0.3329052\ttotal: 13.8s\tremaining: 19.2s\n",
      "418:\tlearn: 0.3324998\ttotal: 13.8s\tremaining: 19.1s\n",
      "419:\tlearn: 0.3320403\ttotal: 13.8s\tremaining: 19.1s\n",
      "420:\tlearn: 0.3316886\ttotal: 13.9s\tremaining: 19.1s\n",
      "421:\tlearn: 0.3313299\ttotal: 13.9s\tremaining: 19s\n",
      "422:\tlearn: 0.3309282\ttotal: 13.9s\tremaining: 19s\n",
      "423:\tlearn: 0.3304649\ttotal: 13.9s\tremaining: 18.9s\n",
      "424:\tlearn: 0.3300959\ttotal: 14s\tremaining: 18.9s\n",
      "425:\tlearn: 0.3297558\ttotal: 14s\tremaining: 18.9s\n",
      "426:\tlearn: 0.3293594\ttotal: 14s\tremaining: 18.8s\n",
      "427:\tlearn: 0.3289031\ttotal: 14.1s\tremaining: 18.8s\n",
      "428:\tlearn: 0.3285875\ttotal: 14.1s\tremaining: 18.8s\n",
      "429:\tlearn: 0.3282265\ttotal: 14.1s\tremaining: 18.7s\n",
      "430:\tlearn: 0.3278906\ttotal: 14.1s\tremaining: 18.7s\n",
      "431:\tlearn: 0.3274801\ttotal: 14.2s\tremaining: 18.6s\n",
      "432:\tlearn: 0.3271112\ttotal: 14.2s\tremaining: 18.6s\n",
      "433:\tlearn: 0.3267348\ttotal: 14.2s\tremaining: 18.6s\n",
      "434:\tlearn: 0.3263699\ttotal: 14.3s\tremaining: 18.5s\n",
      "435:\tlearn: 0.3260732\ttotal: 14.3s\tremaining: 18.5s\n",
      "436:\tlearn: 0.3256074\ttotal: 14.4s\tremaining: 18.5s\n",
      "437:\tlearn: 0.3252850\ttotal: 14.4s\tremaining: 18.5s\n",
      "438:\tlearn: 0.3248634\ttotal: 14.4s\tremaining: 18.4s\n",
      "439:\tlearn: 0.3243973\ttotal: 14.5s\tremaining: 18.4s\n",
      "440:\tlearn: 0.3240740\ttotal: 14.5s\tremaining: 18.4s\n",
      "441:\tlearn: 0.3237367\ttotal: 14.5s\tremaining: 18.4s\n",
      "442:\tlearn: 0.3234474\ttotal: 14.6s\tremaining: 18.3s\n",
      "443:\tlearn: 0.3232312\ttotal: 14.6s\tremaining: 18.3s\n",
      "444:\tlearn: 0.3230178\ttotal: 14.6s\tremaining: 18.2s\n",
      "445:\tlearn: 0.3226611\ttotal: 14.7s\tremaining: 18.2s\n",
      "446:\tlearn: 0.3223067\ttotal: 14.7s\tremaining: 18.2s\n",
      "447:\tlearn: 0.3219907\ttotal: 14.7s\tremaining: 18.1s\n",
      "448:\tlearn: 0.3216012\ttotal: 14.7s\tremaining: 18.1s\n",
      "449:\tlearn: 0.3212654\ttotal: 14.8s\tremaining: 18.1s\n",
      "450:\tlearn: 0.3208606\ttotal: 14.8s\tremaining: 18s\n",
      "451:\tlearn: 0.3204821\ttotal: 14.8s\tremaining: 18s\n",
      "452:\tlearn: 0.3201648\ttotal: 14.9s\tremaining: 18s\n",
      "453:\tlearn: 0.3198479\ttotal: 14.9s\tremaining: 17.9s\n",
      "454:\tlearn: 0.3194999\ttotal: 14.9s\tremaining: 17.9s\n",
      "455:\tlearn: 0.3191442\ttotal: 15s\tremaining: 17.9s\n",
      "456:\tlearn: 0.3188765\ttotal: 15s\tremaining: 17.8s\n",
      "457:\tlearn: 0.3185467\ttotal: 15.1s\tremaining: 17.8s\n",
      "458:\tlearn: 0.3183225\ttotal: 15.1s\tremaining: 17.8s\n",
      "459:\tlearn: 0.3179578\ttotal: 15.1s\tremaining: 17.8s\n",
      "460:\tlearn: 0.3176346\ttotal: 15.2s\tremaining: 17.8s\n",
      "461:\tlearn: 0.3173249\ttotal: 15.2s\tremaining: 17.7s\n",
      "462:\tlearn: 0.3169930\ttotal: 15.3s\tremaining: 17.7s\n",
      "463:\tlearn: 0.3167278\ttotal: 15.3s\tremaining: 17.7s\n",
      "464:\tlearn: 0.3164468\ttotal: 15.4s\tremaining: 17.7s\n",
      "465:\tlearn: 0.3160232\ttotal: 15.4s\tremaining: 17.7s\n",
      "466:\tlearn: 0.3157294\ttotal: 15.4s\tremaining: 17.6s\n",
      "467:\tlearn: 0.3153880\ttotal: 15.5s\tremaining: 17.6s\n",
      "468:\tlearn: 0.3150678\ttotal: 15.5s\tremaining: 17.6s\n",
      "469:\tlearn: 0.3146888\ttotal: 15.5s\tremaining: 17.5s\n",
      "470:\tlearn: 0.3144137\ttotal: 15.6s\tremaining: 17.5s\n",
      "471:\tlearn: 0.3141299\ttotal: 15.6s\tremaining: 17.4s\n",
      "472:\tlearn: 0.3137439\ttotal: 15.6s\tremaining: 17.4s\n",
      "473:\tlearn: 0.3134040\ttotal: 15.7s\tremaining: 17.4s\n",
      "474:\tlearn: 0.3130789\ttotal: 15.7s\tremaining: 17.3s\n",
      "475:\tlearn: 0.3127751\ttotal: 15.7s\tremaining: 17.3s\n",
      "476:\tlearn: 0.3124186\ttotal: 15.7s\tremaining: 17.2s\n",
      "477:\tlearn: 0.3121612\ttotal: 15.8s\tremaining: 17.2s\n",
      "478:\tlearn: 0.3117956\ttotal: 15.8s\tremaining: 17.2s\n",
      "479:\tlearn: 0.3115113\ttotal: 15.8s\tremaining: 17.1s\n",
      "480:\tlearn: 0.3111820\ttotal: 15.9s\tremaining: 17.1s\n",
      "481:\tlearn: 0.3109284\ttotal: 15.9s\tremaining: 17.1s\n",
      "482:\tlearn: 0.3107347\ttotal: 15.9s\tremaining: 17.1s\n",
      "483:\tlearn: 0.3104468\ttotal: 16s\tremaining: 17s\n",
      "484:\tlearn: 0.3101573\ttotal: 16s\tremaining: 17s\n",
      "485:\tlearn: 0.3098080\ttotal: 16s\tremaining: 17s\n",
      "486:\tlearn: 0.3095146\ttotal: 16.1s\tremaining: 16.9s\n",
      "487:\tlearn: 0.3092493\ttotal: 16.1s\tremaining: 16.9s\n",
      "488:\tlearn: 0.3089332\ttotal: 16.1s\tremaining: 16.8s\n",
      "489:\tlearn: 0.3086878\ttotal: 16.1s\tremaining: 16.8s\n"
     ]
    },
    {
     "name": "stdout",
     "output_type": "stream",
     "text": [
      "490:\tlearn: 0.3083877\ttotal: 16.2s\tremaining: 16.8s\n",
      "491:\tlearn: 0.3080873\ttotal: 16.2s\tremaining: 16.8s\n",
      "492:\tlearn: 0.3077533\ttotal: 16.3s\tremaining: 16.7s\n",
      "493:\tlearn: 0.3074784\ttotal: 16.3s\tremaining: 16.7s\n",
      "494:\tlearn: 0.3070673\ttotal: 16.3s\tremaining: 16.7s\n",
      "495:\tlearn: 0.3067112\ttotal: 16.4s\tremaining: 16.6s\n",
      "496:\tlearn: 0.3063582\ttotal: 16.4s\tremaining: 16.6s\n",
      "497:\tlearn: 0.3061015\ttotal: 16.4s\tremaining: 16.6s\n",
      "498:\tlearn: 0.3057538\ttotal: 16.4s\tremaining: 16.5s\n",
      "499:\tlearn: 0.3055039\ttotal: 16.5s\tremaining: 16.5s\n",
      "500:\tlearn: 0.3052508\ttotal: 16.5s\tremaining: 16.5s\n",
      "501:\tlearn: 0.3049914\ttotal: 16.5s\tremaining: 16.4s\n",
      "502:\tlearn: 0.3046653\ttotal: 16.6s\tremaining: 16.4s\n",
      "503:\tlearn: 0.3044017\ttotal: 16.6s\tremaining: 16.4s\n",
      "504:\tlearn: 0.3041205\ttotal: 16.7s\tremaining: 16.3s\n",
      "505:\tlearn: 0.3038559\ttotal: 16.7s\tremaining: 16.3s\n",
      "506:\tlearn: 0.3035033\ttotal: 16.7s\tremaining: 16.3s\n",
      "507:\tlearn: 0.3032352\ttotal: 16.8s\tremaining: 16.2s\n",
      "508:\tlearn: 0.3029299\ttotal: 16.8s\tremaining: 16.2s\n",
      "509:\tlearn: 0.3025972\ttotal: 16.8s\tremaining: 16.2s\n",
      "510:\tlearn: 0.3023083\ttotal: 16.9s\tremaining: 16.1s\n",
      "511:\tlearn: 0.3020096\ttotal: 16.9s\tremaining: 16.1s\n",
      "512:\tlearn: 0.3017941\ttotal: 16.9s\tremaining: 16.1s\n",
      "513:\tlearn: 0.3016131\ttotal: 16.9s\tremaining: 16s\n",
      "514:\tlearn: 0.3014003\ttotal: 17s\tremaining: 16s\n",
      "515:\tlearn: 0.3011285\ttotal: 17s\tremaining: 16s\n",
      "516:\tlearn: 0.3008463\ttotal: 17s\tremaining: 15.9s\n",
      "517:\tlearn: 0.3005259\ttotal: 17.1s\tremaining: 15.9s\n",
      "518:\tlearn: 0.3001936\ttotal: 17.1s\tremaining: 15.8s\n",
      "519:\tlearn: 0.2999280\ttotal: 17.1s\tremaining: 15.8s\n",
      "520:\tlearn: 0.2996429\ttotal: 17.1s\tremaining: 15.8s\n",
      "521:\tlearn: 0.2994698\ttotal: 17.2s\tremaining: 15.7s\n",
      "522:\tlearn: 0.2991783\ttotal: 17.2s\tremaining: 15.7s\n",
      "523:\tlearn: 0.2988610\ttotal: 17.2s\tremaining: 15.6s\n",
      "524:\tlearn: 0.2985410\ttotal: 17.3s\tremaining: 15.6s\n",
      "525:\tlearn: 0.2982770\ttotal: 17.3s\tremaining: 15.6s\n",
      "526:\tlearn: 0.2980426\ttotal: 17.3s\tremaining: 15.5s\n",
      "527:\tlearn: 0.2977332\ttotal: 17.3s\tremaining: 15.5s\n",
      "528:\tlearn: 0.2974714\ttotal: 17.4s\tremaining: 15.5s\n",
      "529:\tlearn: 0.2972098\ttotal: 17.4s\tremaining: 15.4s\n",
      "530:\tlearn: 0.2969271\ttotal: 17.4s\tremaining: 15.4s\n",
      "531:\tlearn: 0.2966038\ttotal: 17.4s\tremaining: 15.3s\n",
      "532:\tlearn: 0.2963329\ttotal: 17.5s\tremaining: 15.3s\n",
      "533:\tlearn: 0.2959953\ttotal: 17.5s\tremaining: 15.3s\n",
      "534:\tlearn: 0.2957495\ttotal: 17.5s\tremaining: 15.2s\n",
      "535:\tlearn: 0.2954924\ttotal: 17.6s\tremaining: 15.2s\n",
      "536:\tlearn: 0.2952589\ttotal: 17.6s\tremaining: 15.2s\n",
      "537:\tlearn: 0.2950157\ttotal: 17.6s\tremaining: 15.1s\n",
      "538:\tlearn: 0.2948270\ttotal: 17.7s\tremaining: 15.1s\n",
      "539:\tlearn: 0.2945591\ttotal: 17.7s\tremaining: 15.1s\n",
      "540:\tlearn: 0.2942731\ttotal: 17.7s\tremaining: 15s\n",
      "541:\tlearn: 0.2938953\ttotal: 17.7s\tremaining: 15s\n",
      "542:\tlearn: 0.2936467\ttotal: 17.8s\tremaining: 15s\n",
      "543:\tlearn: 0.2934103\ttotal: 17.8s\tremaining: 14.9s\n",
      "544:\tlearn: 0.2931711\ttotal: 17.8s\tremaining: 14.9s\n",
      "545:\tlearn: 0.2929024\ttotal: 17.8s\tremaining: 14.8s\n",
      "546:\tlearn: 0.2925366\ttotal: 17.9s\tremaining: 14.8s\n",
      "547:\tlearn: 0.2922838\ttotal: 17.9s\tremaining: 14.8s\n",
      "548:\tlearn: 0.2920054\ttotal: 17.9s\tremaining: 14.7s\n",
      "549:\tlearn: 0.2917298\ttotal: 18s\tremaining: 14.7s\n",
      "550:\tlearn: 0.2914969\ttotal: 18s\tremaining: 14.7s\n",
      "551:\tlearn: 0.2912616\ttotal: 18s\tremaining: 14.6s\n",
      "552:\tlearn: 0.2910420\ttotal: 18s\tremaining: 14.6s\n",
      "553:\tlearn: 0.2907485\ttotal: 18.1s\tremaining: 14.5s\n",
      "554:\tlearn: 0.2904922\ttotal: 18.1s\tremaining: 14.5s\n",
      "555:\tlearn: 0.2902404\ttotal: 18.1s\tremaining: 14.5s\n",
      "556:\tlearn: 0.2900640\ttotal: 18.2s\tremaining: 14.4s\n",
      "557:\tlearn: 0.2898088\ttotal: 18.2s\tremaining: 14.4s\n",
      "558:\tlearn: 0.2895062\ttotal: 18.2s\tremaining: 14.4s\n",
      "559:\tlearn: 0.2892786\ttotal: 18.2s\tremaining: 14.3s\n",
      "560:\tlearn: 0.2890607\ttotal: 18.3s\tremaining: 14.3s\n",
      "561:\tlearn: 0.2888006\ttotal: 18.3s\tremaining: 14.3s\n",
      "562:\tlearn: 0.2884950\ttotal: 18.3s\tremaining: 14.2s\n",
      "563:\tlearn: 0.2882760\ttotal: 18.4s\tremaining: 14.2s\n",
      "564:\tlearn: 0.2879595\ttotal: 18.4s\tremaining: 14.2s\n",
      "565:\tlearn: 0.2877090\ttotal: 18.4s\tremaining: 14.1s\n",
      "566:\tlearn: 0.2874555\ttotal: 18.4s\tremaining: 14.1s\n",
      "567:\tlearn: 0.2872354\ttotal: 18.5s\tremaining: 14s\n",
      "568:\tlearn: 0.2869482\ttotal: 18.5s\tremaining: 14s\n",
      "569:\tlearn: 0.2867347\ttotal: 18.5s\tremaining: 14s\n",
      "570:\tlearn: 0.2865471\ttotal: 18.6s\tremaining: 13.9s\n",
      "571:\tlearn: 0.2862951\ttotal: 18.6s\tremaining: 13.9s\n",
      "572:\tlearn: 0.2860098\ttotal: 18.6s\tremaining: 13.9s\n",
      "573:\tlearn: 0.2856683\ttotal: 18.6s\tremaining: 13.8s\n",
      "574:\tlearn: 0.2854706\ttotal: 18.7s\tremaining: 13.8s\n",
      "575:\tlearn: 0.2852284\ttotal: 18.7s\tremaining: 13.8s\n",
      "576:\tlearn: 0.2849379\ttotal: 18.7s\tremaining: 13.7s\n",
      "577:\tlearn: 0.2846905\ttotal: 18.8s\tremaining: 13.7s\n",
      "578:\tlearn: 0.2844979\ttotal: 18.8s\tremaining: 13.7s\n",
      "579:\tlearn: 0.2841850\ttotal: 18.8s\tremaining: 13.6s\n",
      "580:\tlearn: 0.2839414\ttotal: 18.9s\tremaining: 13.6s\n",
      "581:\tlearn: 0.2837526\ttotal: 18.9s\tremaining: 13.6s\n",
      "582:\tlearn: 0.2836307\ttotal: 18.9s\tremaining: 13.5s\n",
      "583:\tlearn: 0.2834124\ttotal: 18.9s\tremaining: 13.5s\n",
      "584:\tlearn: 0.2831840\ttotal: 19s\tremaining: 13.4s\n",
      "585:\tlearn: 0.2829609\ttotal: 19s\tremaining: 13.4s\n",
      "586:\tlearn: 0.2827488\ttotal: 19s\tremaining: 13.4s\n",
      "587:\tlearn: 0.2825757\ttotal: 19s\tremaining: 13.3s\n",
      "588:\tlearn: 0.2823309\ttotal: 19.1s\tremaining: 13.3s\n",
      "589:\tlearn: 0.2821616\ttotal: 19.1s\tremaining: 13.3s\n",
      "590:\tlearn: 0.2819598\ttotal: 19.1s\tremaining: 13.2s\n",
      "591:\tlearn: 0.2817267\ttotal: 19.2s\tremaining: 13.2s\n",
      "592:\tlearn: 0.2815183\ttotal: 19.2s\tremaining: 13.2s\n",
      "593:\tlearn: 0.2813400\ttotal: 19.2s\tremaining: 13.1s\n",
      "594:\tlearn: 0.2811311\ttotal: 19.2s\tremaining: 13.1s\n",
      "595:\tlearn: 0.2809124\ttotal: 19.3s\tremaining: 13.1s\n",
      "596:\tlearn: 0.2806236\ttotal: 19.3s\tremaining: 13s\n",
      "597:\tlearn: 0.2803749\ttotal: 19.3s\tremaining: 13s\n",
      "598:\tlearn: 0.2801345\ttotal: 19.4s\tremaining: 13s\n",
      "599:\tlearn: 0.2799255\ttotal: 19.4s\tremaining: 12.9s\n",
      "600:\tlearn: 0.2797368\ttotal: 19.4s\tremaining: 12.9s\n",
      "601:\tlearn: 0.2795528\ttotal: 19.4s\tremaining: 12.9s\n",
      "602:\tlearn: 0.2793252\ttotal: 19.5s\tremaining: 12.8s\n",
      "603:\tlearn: 0.2790653\ttotal: 19.5s\tremaining: 12.8s\n",
      "604:\tlearn: 0.2788594\ttotal: 19.5s\tremaining: 12.8s\n",
      "605:\tlearn: 0.2786446\ttotal: 19.6s\tremaining: 12.7s\n",
      "606:\tlearn: 0.2784038\ttotal: 19.6s\tremaining: 12.7s\n",
      "607:\tlearn: 0.2780711\ttotal: 19.6s\tremaining: 12.6s\n",
      "608:\tlearn: 0.2778822\ttotal: 19.6s\tremaining: 12.6s\n",
      "609:\tlearn: 0.2776460\ttotal: 19.7s\tremaining: 12.6s\n",
      "610:\tlearn: 0.2773908\ttotal: 19.7s\tremaining: 12.5s\n",
      "611:\tlearn: 0.2771263\ttotal: 19.7s\tremaining: 12.5s\n",
      "612:\tlearn: 0.2768641\ttotal: 19.8s\tremaining: 12.5s\n",
      "613:\tlearn: 0.2765802\ttotal: 19.8s\tremaining: 12.4s\n",
      "614:\tlearn: 0.2764072\ttotal: 19.8s\tremaining: 12.4s\n",
      "615:\tlearn: 0.2761354\ttotal: 19.8s\tremaining: 12.4s\n",
      "616:\tlearn: 0.2759184\ttotal: 19.9s\tremaining: 12.3s\n",
      "617:\tlearn: 0.2757160\ttotal: 19.9s\tremaining: 12.3s\n",
      "618:\tlearn: 0.2755132\ttotal: 19.9s\tremaining: 12.3s\n",
      "619:\tlearn: 0.2753232\ttotal: 20s\tremaining: 12.2s\n",
      "620:\tlearn: 0.2751592\ttotal: 20s\tremaining: 12.2s\n",
      "621:\tlearn: 0.2749294\ttotal: 20s\tremaining: 12.2s\n",
      "622:\tlearn: 0.2747528\ttotal: 20s\tremaining: 12.1s\n",
      "623:\tlearn: 0.2745447\ttotal: 20.1s\tremaining: 12.1s\n",
      "624:\tlearn: 0.2743163\ttotal: 20.1s\tremaining: 12.1s\n",
      "625:\tlearn: 0.2741799\ttotal: 20.1s\tremaining: 12s\n",
      "626:\tlearn: 0.2740070\ttotal: 20.2s\tremaining: 12s\n",
      "627:\tlearn: 0.2738229\ttotal: 20.2s\tremaining: 12s\n",
      "628:\tlearn: 0.2736404\ttotal: 20.2s\tremaining: 11.9s\n",
      "629:\tlearn: 0.2734333\ttotal: 20.3s\tremaining: 11.9s\n",
      "630:\tlearn: 0.2731599\ttotal: 20.3s\tremaining: 11.9s\n",
      "631:\tlearn: 0.2730002\ttotal: 20.3s\tremaining: 11.8s\n",
      "632:\tlearn: 0.2727828\ttotal: 20.3s\tremaining: 11.8s\n",
      "633:\tlearn: 0.2726052\ttotal: 20.4s\tremaining: 11.8s\n",
      "634:\tlearn: 0.2723075\ttotal: 20.4s\tremaining: 11.7s\n",
      "635:\tlearn: 0.2720945\ttotal: 20.5s\tremaining: 11.7s\n",
      "636:\tlearn: 0.2718928\ttotal: 20.5s\tremaining: 11.7s\n",
      "637:\tlearn: 0.2716971\ttotal: 20.5s\tremaining: 11.7s\n",
      "638:\tlearn: 0.2714909\ttotal: 20.6s\tremaining: 11.6s\n",
      "639:\tlearn: 0.2713130\ttotal: 20.6s\tremaining: 11.6s\n",
      "640:\tlearn: 0.2711238\ttotal: 20.6s\tremaining: 11.6s\n",
      "641:\tlearn: 0.2709234\ttotal: 20.7s\tremaining: 11.5s\n",
      "642:\tlearn: 0.2707658\ttotal: 20.7s\tremaining: 11.5s\n",
      "643:\tlearn: 0.2705405\ttotal: 20.7s\tremaining: 11.5s\n",
      "644:\tlearn: 0.2703598\ttotal: 20.8s\tremaining: 11.4s\n",
      "645:\tlearn: 0.2701187\ttotal: 20.8s\tremaining: 11.4s\n",
      "646:\tlearn: 0.2699405\ttotal: 20.9s\tremaining: 11.4s\n",
      "647:\tlearn: 0.2697462\ttotal: 20.9s\tremaining: 11.3s\n",
      "648:\tlearn: 0.2695652\ttotal: 20.9s\tremaining: 11.3s\n",
      "649:\tlearn: 0.2693280\ttotal: 21s\tremaining: 11.3s\n",
      "650:\tlearn: 0.2691623\ttotal: 21s\tremaining: 11.3s\n",
      "651:\tlearn: 0.2689748\ttotal: 21s\tremaining: 11.2s\n"
     ]
    },
    {
     "name": "stdout",
     "output_type": "stream",
     "text": [
      "652:\tlearn: 0.2688515\ttotal: 21.1s\tremaining: 11.2s\n",
      "653:\tlearn: 0.2686382\ttotal: 21.1s\tremaining: 11.2s\n",
      "654:\tlearn: 0.2684449\ttotal: 21.2s\tremaining: 11.1s\n",
      "655:\tlearn: 0.2682667\ttotal: 21.2s\tremaining: 11.1s\n",
      "656:\tlearn: 0.2681206\ttotal: 21.3s\tremaining: 11.1s\n",
      "657:\tlearn: 0.2679366\ttotal: 21.3s\tremaining: 11.1s\n",
      "658:\tlearn: 0.2677324\ttotal: 21.4s\tremaining: 11.1s\n",
      "659:\tlearn: 0.2675792\ttotal: 21.4s\tremaining: 11s\n",
      "660:\tlearn: 0.2674113\ttotal: 21.5s\tremaining: 11s\n",
      "661:\tlearn: 0.2671482\ttotal: 21.5s\tremaining: 11s\n",
      "662:\tlearn: 0.2669658\ttotal: 21.5s\tremaining: 10.9s\n",
      "663:\tlearn: 0.2667843\ttotal: 21.6s\tremaining: 10.9s\n",
      "664:\tlearn: 0.2666441\ttotal: 21.6s\tremaining: 10.9s\n",
      "665:\tlearn: 0.2664586\ttotal: 21.6s\tremaining: 10.9s\n",
      "666:\tlearn: 0.2662998\ttotal: 21.7s\tremaining: 10.8s\n",
      "667:\tlearn: 0.2661172\ttotal: 21.8s\tremaining: 10.8s\n",
      "668:\tlearn: 0.2659413\ttotal: 21.8s\tremaining: 10.8s\n",
      "669:\tlearn: 0.2657625\ttotal: 21.9s\tremaining: 10.8s\n",
      "670:\tlearn: 0.2655610\ttotal: 21.9s\tremaining: 10.7s\n",
      "671:\tlearn: 0.2653689\ttotal: 22s\tremaining: 10.7s\n",
      "672:\tlearn: 0.2651726\ttotal: 22s\tremaining: 10.7s\n",
      "673:\tlearn: 0.2650767\ttotal: 22.1s\tremaining: 10.7s\n",
      "674:\tlearn: 0.2649228\ttotal: 22.1s\tremaining: 10.7s\n",
      "675:\tlearn: 0.2647370\ttotal: 22.2s\tremaining: 10.6s\n",
      "676:\tlearn: 0.2645817\ttotal: 22.3s\tremaining: 10.6s\n",
      "677:\tlearn: 0.2643202\ttotal: 22.3s\tremaining: 10.6s\n",
      "678:\tlearn: 0.2640830\ttotal: 22.4s\tremaining: 10.6s\n",
      "679:\tlearn: 0.2638789\ttotal: 22.4s\tremaining: 10.5s\n",
      "680:\tlearn: 0.2636622\ttotal: 22.5s\tremaining: 10.5s\n",
      "681:\tlearn: 0.2635145\ttotal: 22.5s\tremaining: 10.5s\n",
      "682:\tlearn: 0.2632738\ttotal: 22.6s\tremaining: 10.5s\n",
      "683:\tlearn: 0.2630838\ttotal: 22.6s\tremaining: 10.4s\n",
      "684:\tlearn: 0.2629410\ttotal: 22.6s\tremaining: 10.4s\n",
      "685:\tlearn: 0.2628040\ttotal: 22.7s\tremaining: 10.4s\n",
      "686:\tlearn: 0.2626963\ttotal: 22.7s\tremaining: 10.4s\n",
      "687:\tlearn: 0.2624906\ttotal: 22.8s\tremaining: 10.3s\n",
      "688:\tlearn: 0.2622886\ttotal: 22.9s\tremaining: 10.3s\n",
      "689:\tlearn: 0.2621157\ttotal: 22.9s\tremaining: 10.3s\n",
      "690:\tlearn: 0.2619372\ttotal: 23s\tremaining: 10.3s\n",
      "691:\tlearn: 0.2617959\ttotal: 23.1s\tremaining: 10.3s\n",
      "692:\tlearn: 0.2616366\ttotal: 23.1s\tremaining: 10.2s\n",
      "693:\tlearn: 0.2614673\ttotal: 23.2s\tremaining: 10.2s\n",
      "694:\tlearn: 0.2613182\ttotal: 23.2s\tremaining: 10.2s\n",
      "695:\tlearn: 0.2611857\ttotal: 23.2s\tremaining: 10.1s\n",
      "696:\tlearn: 0.2609904\ttotal: 23.3s\tremaining: 10.1s\n",
      "697:\tlearn: 0.2608447\ttotal: 23.3s\tremaining: 10.1s\n",
      "698:\tlearn: 0.2606982\ttotal: 23.4s\tremaining: 10.1s\n",
      "699:\tlearn: 0.2605129\ttotal: 23.4s\tremaining: 10s\n",
      "700:\tlearn: 0.2603523\ttotal: 23.5s\tremaining: 10s\n",
      "701:\tlearn: 0.2602055\ttotal: 23.5s\tremaining: 9.98s\n",
      "702:\tlearn: 0.2600821\ttotal: 23.6s\tremaining: 9.95s\n",
      "703:\tlearn: 0.2598987\ttotal: 23.6s\tremaining: 9.93s\n",
      "704:\tlearn: 0.2598040\ttotal: 23.7s\tremaining: 9.9s\n",
      "705:\tlearn: 0.2596479\ttotal: 23.7s\tremaining: 9.87s\n",
      "706:\tlearn: 0.2594455\ttotal: 23.7s\tremaining: 9.84s\n",
      "707:\tlearn: 0.2592612\ttotal: 23.8s\tremaining: 9.81s\n",
      "708:\tlearn: 0.2590985\ttotal: 23.8s\tremaining: 9.78s\n",
      "709:\tlearn: 0.2589391\ttotal: 23.9s\tremaining: 9.75s\n",
      "710:\tlearn: 0.2588053\ttotal: 23.9s\tremaining: 9.72s\n",
      "711:\tlearn: 0.2586706\ttotal: 24s\tremaining: 9.69s\n",
      "712:\tlearn: 0.2585158\ttotal: 24s\tremaining: 9.66s\n",
      "713:\tlearn: 0.2582751\ttotal: 24.1s\tremaining: 9.63s\n",
      "714:\tlearn: 0.2581155\ttotal: 24.1s\tremaining: 9.61s\n",
      "715:\tlearn: 0.2579604\ttotal: 24.1s\tremaining: 9.57s\n",
      "716:\tlearn: 0.2578536\ttotal: 24.2s\tremaining: 9.54s\n",
      "717:\tlearn: 0.2576935\ttotal: 24.2s\tremaining: 9.52s\n",
      "718:\tlearn: 0.2574839\ttotal: 24.3s\tremaining: 9.49s\n",
      "719:\tlearn: 0.2573322\ttotal: 24.3s\tremaining: 9.45s\n",
      "720:\tlearn: 0.2571839\ttotal: 24.4s\tremaining: 9.43s\n",
      "721:\tlearn: 0.2570111\ttotal: 24.4s\tremaining: 9.4s\n",
      "722:\tlearn: 0.2568488\ttotal: 24.4s\tremaining: 9.36s\n",
      "723:\tlearn: 0.2566818\ttotal: 24.5s\tremaining: 9.33s\n",
      "724:\tlearn: 0.2565360\ttotal: 24.5s\tremaining: 9.31s\n",
      "725:\tlearn: 0.2563412\ttotal: 24.6s\tremaining: 9.28s\n",
      "726:\tlearn: 0.2562029\ttotal: 24.6s\tremaining: 9.24s\n",
      "727:\tlearn: 0.2560606\ttotal: 24.6s\tremaining: 9.21s\n",
      "728:\tlearn: 0.2559040\ttotal: 24.7s\tremaining: 9.18s\n",
      "729:\tlearn: 0.2557548\ttotal: 24.7s\tremaining: 9.15s\n",
      "730:\tlearn: 0.2555710\ttotal: 24.8s\tremaining: 9.12s\n",
      "731:\tlearn: 0.2554516\ttotal: 24.8s\tremaining: 9.09s\n",
      "732:\tlearn: 0.2553185\ttotal: 24.8s\tremaining: 9.05s\n",
      "733:\tlearn: 0.2551727\ttotal: 24.9s\tremaining: 9.02s\n",
      "734:\tlearn: 0.2550279\ttotal: 25s\tremaining: 9s\n",
      "735:\tlearn: 0.2548733\ttotal: 25s\tremaining: 8.96s\n",
      "736:\tlearn: 0.2547409\ttotal: 25s\tremaining: 8.93s\n",
      "737:\tlearn: 0.2545869\ttotal: 25.1s\tremaining: 8.9s\n",
      "738:\tlearn: 0.2544530\ttotal: 25.1s\tremaining: 8.87s\n",
      "739:\tlearn: 0.2542857\ttotal: 25.2s\tremaining: 8.84s\n",
      "740:\tlearn: 0.2541511\ttotal: 25.2s\tremaining: 8.8s\n",
      "741:\tlearn: 0.2539725\ttotal: 25.2s\tremaining: 8.77s\n",
      "742:\tlearn: 0.2537558\ttotal: 25.3s\tremaining: 8.74s\n",
      "743:\tlearn: 0.2535758\ttotal: 25.3s\tremaining: 8.71s\n",
      "744:\tlearn: 0.2534465\ttotal: 25.4s\tremaining: 8.68s\n",
      "745:\tlearn: 0.2533289\ttotal: 25.4s\tremaining: 8.65s\n",
      "746:\tlearn: 0.2532185\ttotal: 25.4s\tremaining: 8.61s\n",
      "747:\tlearn: 0.2530735\ttotal: 25.5s\tremaining: 8.58s\n",
      "748:\tlearn: 0.2529227\ttotal: 25.5s\tremaining: 8.55s\n",
      "749:\tlearn: 0.2527886\ttotal: 25.5s\tremaining: 8.52s\n",
      "750:\tlearn: 0.2526321\ttotal: 25.6s\tremaining: 8.48s\n",
      "751:\tlearn: 0.2525330\ttotal: 25.6s\tremaining: 8.45s\n",
      "752:\tlearn: 0.2523782\ttotal: 25.7s\tremaining: 8.42s\n",
      "753:\tlearn: 0.2522594\ttotal: 25.7s\tremaining: 8.39s\n",
      "754:\tlearn: 0.2521254\ttotal: 25.8s\tremaining: 8.36s\n",
      "755:\tlearn: 0.2519924\ttotal: 25.8s\tremaining: 8.32s\n",
      "756:\tlearn: 0.2518278\ttotal: 25.8s\tremaining: 8.29s\n",
      "757:\tlearn: 0.2517183\ttotal: 25.9s\tremaining: 8.26s\n",
      "758:\tlearn: 0.2516023\ttotal: 25.9s\tremaining: 8.23s\n",
      "759:\tlearn: 0.2514886\ttotal: 25.9s\tremaining: 8.19s\n",
      "760:\tlearn: 0.2513605\ttotal: 26s\tremaining: 8.16s\n",
      "761:\tlearn: 0.2512676\ttotal: 26s\tremaining: 8.12s\n",
      "762:\tlearn: 0.2511269\ttotal: 26.1s\tremaining: 8.09s\n",
      "763:\tlearn: 0.2510143\ttotal: 26.1s\tremaining: 8.06s\n",
      "764:\tlearn: 0.2508841\ttotal: 26.1s\tremaining: 8.03s\n",
      "765:\tlearn: 0.2507538\ttotal: 26.2s\tremaining: 8s\n",
      "766:\tlearn: 0.2506396\ttotal: 26.2s\tremaining: 7.96s\n",
      "767:\tlearn: 0.2504870\ttotal: 26.2s\tremaining: 7.93s\n",
      "768:\tlearn: 0.2503544\ttotal: 26.3s\tremaining: 7.9s\n",
      "769:\tlearn: 0.2501420\ttotal: 26.4s\tremaining: 7.88s\n",
      "770:\tlearn: 0.2499877\ttotal: 26.4s\tremaining: 7.84s\n",
      "771:\tlearn: 0.2498678\ttotal: 26.4s\tremaining: 7.81s\n",
      "772:\tlearn: 0.2497530\ttotal: 26.5s\tremaining: 7.78s\n",
      "773:\tlearn: 0.2496301\ttotal: 26.6s\tremaining: 7.75s\n",
      "774:\tlearn: 0.2495160\ttotal: 26.6s\tremaining: 7.72s\n",
      "775:\tlearn: 0.2493972\ttotal: 26.7s\tremaining: 7.7s\n",
      "776:\tlearn: 0.2492914\ttotal: 26.7s\tremaining: 7.67s\n",
      "777:\tlearn: 0.2491439\ttotal: 26.8s\tremaining: 7.64s\n",
      "778:\tlearn: 0.2489923\ttotal: 26.8s\tremaining: 7.61s\n",
      "779:\tlearn: 0.2488663\ttotal: 26.9s\tremaining: 7.58s\n",
      "780:\tlearn: 0.2487379\ttotal: 26.9s\tremaining: 7.55s\n",
      "781:\tlearn: 0.2486343\ttotal: 27s\tremaining: 7.52s\n",
      "782:\tlearn: 0.2485062\ttotal: 27s\tremaining: 7.49s\n",
      "783:\tlearn: 0.2483755\ttotal: 27.1s\tremaining: 7.46s\n",
      "784:\tlearn: 0.2482108\ttotal: 27.1s\tremaining: 7.42s\n",
      "785:\tlearn: 0.2481078\ttotal: 27.2s\tremaining: 7.39s\n",
      "786:\tlearn: 0.2479549\ttotal: 27.2s\tremaining: 7.36s\n",
      "787:\tlearn: 0.2478441\ttotal: 27.2s\tremaining: 7.33s\n",
      "788:\tlearn: 0.2477059\ttotal: 27.3s\tremaining: 7.3s\n",
      "789:\tlearn: 0.2475995\ttotal: 27.3s\tremaining: 7.27s\n",
      "790:\tlearn: 0.2474686\ttotal: 27.4s\tremaining: 7.23s\n",
      "791:\tlearn: 0.2473397\ttotal: 27.4s\tremaining: 7.21s\n",
      "792:\tlearn: 0.2471840\ttotal: 27.5s\tremaining: 7.18s\n",
      "793:\tlearn: 0.2470764\ttotal: 27.6s\tremaining: 7.15s\n",
      "794:\tlearn: 0.2469466\ttotal: 27.6s\tremaining: 7.12s\n",
      "795:\tlearn: 0.2467988\ttotal: 27.6s\tremaining: 7.08s\n",
      "796:\tlearn: 0.2466997\ttotal: 27.7s\tremaining: 7.05s\n",
      "797:\tlearn: 0.2465780\ttotal: 27.7s\tremaining: 7.01s\n",
      "798:\tlearn: 0.2464786\ttotal: 27.7s\tremaining: 6.98s\n",
      "799:\tlearn: 0.2463935\ttotal: 27.8s\tremaining: 6.94s\n",
      "800:\tlearn: 0.2462733\ttotal: 27.8s\tremaining: 6.9s\n",
      "801:\tlearn: 0.2461659\ttotal: 27.8s\tremaining: 6.87s\n",
      "802:\tlearn: 0.2460288\ttotal: 27.8s\tremaining: 6.83s\n",
      "803:\tlearn: 0.2459231\ttotal: 27.9s\tremaining: 6.79s\n",
      "804:\tlearn: 0.2458240\ttotal: 27.9s\tremaining: 6.76s\n",
      "805:\tlearn: 0.2457146\ttotal: 28s\tremaining: 6.73s\n",
      "806:\tlearn: 0.2456009\ttotal: 28s\tremaining: 6.7s\n",
      "807:\tlearn: 0.2454566\ttotal: 28s\tremaining: 6.66s\n",
      "808:\tlearn: 0.2453170\ttotal: 28.1s\tremaining: 6.63s\n",
      "809:\tlearn: 0.2452141\ttotal: 28.1s\tremaining: 6.59s\n",
      "810:\tlearn: 0.2450962\ttotal: 28.1s\tremaining: 6.56s\n",
      "811:\tlearn: 0.2449363\ttotal: 28.2s\tremaining: 6.53s\n",
      "812:\tlearn: 0.2447781\ttotal: 28.2s\tremaining: 6.49s\n",
      "813:\tlearn: 0.2446628\ttotal: 28.3s\tremaining: 6.46s\n",
      "814:\tlearn: 0.2445460\ttotal: 28.3s\tremaining: 6.42s\n"
     ]
    },
    {
     "name": "stdout",
     "output_type": "stream",
     "text": [
      "815:\tlearn: 0.2444072\ttotal: 28.3s\tremaining: 6.39s\n",
      "816:\tlearn: 0.2442655\ttotal: 28.4s\tremaining: 6.36s\n",
      "817:\tlearn: 0.2441676\ttotal: 28.4s\tremaining: 6.33s\n",
      "818:\tlearn: 0.2440336\ttotal: 28.5s\tremaining: 6.3s\n",
      "819:\tlearn: 0.2439203\ttotal: 28.5s\tremaining: 6.27s\n",
      "820:\tlearn: 0.2438109\ttotal: 28.6s\tremaining: 6.24s\n",
      "821:\tlearn: 0.2436579\ttotal: 28.7s\tremaining: 6.21s\n",
      "822:\tlearn: 0.2435302\ttotal: 28.7s\tremaining: 6.18s\n",
      "823:\tlearn: 0.2434231\ttotal: 28.8s\tremaining: 6.15s\n",
      "824:\tlearn: 0.2433205\ttotal: 28.9s\tremaining: 6.12s\n",
      "825:\tlearn: 0.2431906\ttotal: 28.9s\tremaining: 6.09s\n",
      "826:\tlearn: 0.2430731\ttotal: 29s\tremaining: 6.07s\n",
      "827:\tlearn: 0.2429692\ttotal: 29.1s\tremaining: 6.04s\n",
      "828:\tlearn: 0.2428709\ttotal: 29.1s\tremaining: 6.01s\n",
      "829:\tlearn: 0.2427628\ttotal: 29.2s\tremaining: 5.97s\n",
      "830:\tlearn: 0.2426495\ttotal: 29.2s\tremaining: 5.94s\n",
      "831:\tlearn: 0.2425194\ttotal: 29.2s\tremaining: 5.9s\n",
      "832:\tlearn: 0.2424082\ttotal: 29.3s\tremaining: 5.87s\n",
      "833:\tlearn: 0.2422697\ttotal: 29.3s\tremaining: 5.84s\n",
      "834:\tlearn: 0.2421423\ttotal: 29.4s\tremaining: 5.8s\n",
      "835:\tlearn: 0.2420460\ttotal: 29.4s\tremaining: 5.77s\n",
      "836:\tlearn: 0.2419260\ttotal: 29.5s\tremaining: 5.74s\n",
      "837:\tlearn: 0.2417694\ttotal: 29.5s\tremaining: 5.71s\n",
      "838:\tlearn: 0.2416796\ttotal: 29.6s\tremaining: 5.67s\n",
      "839:\tlearn: 0.2414929\ttotal: 29.6s\tremaining: 5.63s\n",
      "840:\tlearn: 0.2413277\ttotal: 29.6s\tremaining: 5.6s\n",
      "841:\tlearn: 0.2412303\ttotal: 29.7s\tremaining: 5.57s\n",
      "842:\tlearn: 0.2411270\ttotal: 29.7s\tremaining: 5.54s\n",
      "843:\tlearn: 0.2410343\ttotal: 29.8s\tremaining: 5.5s\n",
      "844:\tlearn: 0.2408472\ttotal: 29.8s\tremaining: 5.47s\n",
      "845:\tlearn: 0.2407453\ttotal: 29.8s\tremaining: 5.43s\n",
      "846:\tlearn: 0.2406239\ttotal: 29.9s\tremaining: 5.4s\n",
      "847:\tlearn: 0.2405322\ttotal: 29.9s\tremaining: 5.37s\n",
      "848:\tlearn: 0.2404148\ttotal: 30s\tremaining: 5.33s\n",
      "849:\tlearn: 0.2402975\ttotal: 30s\tremaining: 5.29s\n",
      "850:\tlearn: 0.2402027\ttotal: 30s\tremaining: 5.26s\n",
      "851:\tlearn: 0.2400973\ttotal: 30.1s\tremaining: 5.22s\n",
      "852:\tlearn: 0.2399863\ttotal: 30.1s\tremaining: 5.19s\n",
      "853:\tlearn: 0.2398669\ttotal: 30.2s\tremaining: 5.16s\n",
      "854:\tlearn: 0.2397326\ttotal: 30.2s\tremaining: 5.13s\n",
      "855:\tlearn: 0.2395948\ttotal: 30.3s\tremaining: 5.09s\n",
      "856:\tlearn: 0.2395141\ttotal: 30.3s\tremaining: 5.06s\n",
      "857:\tlearn: 0.2394199\ttotal: 30.4s\tremaining: 5.03s\n",
      "858:\tlearn: 0.2393199\ttotal: 30.4s\tremaining: 4.99s\n",
      "859:\tlearn: 0.2391722\ttotal: 30.4s\tremaining: 4.96s\n",
      "860:\tlearn: 0.2390670\ttotal: 30.5s\tremaining: 4.92s\n",
      "861:\tlearn: 0.2390040\ttotal: 30.5s\tremaining: 4.88s\n",
      "862:\tlearn: 0.2388413\ttotal: 30.5s\tremaining: 4.85s\n",
      "863:\tlearn: 0.2387310\ttotal: 30.6s\tremaining: 4.81s\n",
      "864:\tlearn: 0.2386231\ttotal: 30.6s\tremaining: 4.78s\n",
      "865:\tlearn: 0.2384373\ttotal: 30.7s\tremaining: 4.74s\n",
      "866:\tlearn: 0.2383266\ttotal: 30.7s\tremaining: 4.71s\n",
      "867:\tlearn: 0.2382234\ttotal: 30.7s\tremaining: 4.67s\n",
      "868:\tlearn: 0.2381224\ttotal: 30.8s\tremaining: 4.64s\n",
      "869:\tlearn: 0.2380389\ttotal: 30.8s\tremaining: 4.6s\n",
      "870:\tlearn: 0.2379350\ttotal: 30.8s\tremaining: 4.57s\n",
      "871:\tlearn: 0.2378369\ttotal: 30.9s\tremaining: 4.53s\n",
      "872:\tlearn: 0.2377582\ttotal: 30.9s\tremaining: 4.5s\n",
      "873:\tlearn: 0.2376602\ttotal: 31s\tremaining: 4.46s\n",
      "874:\tlearn: 0.2375550\ttotal: 31s\tremaining: 4.43s\n",
      "875:\tlearn: 0.2374376\ttotal: 31s\tremaining: 4.39s\n",
      "876:\tlearn: 0.2372792\ttotal: 31.1s\tremaining: 4.36s\n",
      "877:\tlearn: 0.2371605\ttotal: 31.1s\tremaining: 4.32s\n",
      "878:\tlearn: 0.2369792\ttotal: 31.2s\tremaining: 4.29s\n",
      "879:\tlearn: 0.2368875\ttotal: 31.2s\tremaining: 4.25s\n",
      "880:\tlearn: 0.2367932\ttotal: 31.2s\tremaining: 4.22s\n",
      "881:\tlearn: 0.2366317\ttotal: 31.3s\tremaining: 4.18s\n",
      "882:\tlearn: 0.2365510\ttotal: 31.3s\tremaining: 4.15s\n",
      "883:\tlearn: 0.2364447\ttotal: 31.4s\tremaining: 4.11s\n",
      "884:\tlearn: 0.2363243\ttotal: 31.4s\tremaining: 4.08s\n",
      "885:\tlearn: 0.2361998\ttotal: 31.4s\tremaining: 4.04s\n",
      "886:\tlearn: 0.2360993\ttotal: 31.5s\tremaining: 4.01s\n",
      "887:\tlearn: 0.2360103\ttotal: 31.5s\tremaining: 3.97s\n",
      "888:\tlearn: 0.2359059\ttotal: 31.5s\tremaining: 3.94s\n",
      "889:\tlearn: 0.2358192\ttotal: 31.6s\tremaining: 3.9s\n",
      "890:\tlearn: 0.2357398\ttotal: 31.6s\tremaining: 3.86s\n",
      "891:\tlearn: 0.2356324\ttotal: 31.6s\tremaining: 3.83s\n",
      "892:\tlearn: 0.2355547\ttotal: 31.7s\tremaining: 3.79s\n",
      "893:\tlearn: 0.2354365\ttotal: 31.7s\tremaining: 3.76s\n",
      "894:\tlearn: 0.2353544\ttotal: 31.8s\tremaining: 3.73s\n",
      "895:\tlearn: 0.2352603\ttotal: 31.8s\tremaining: 3.69s\n",
      "896:\tlearn: 0.2350952\ttotal: 31.8s\tremaining: 3.65s\n",
      "897:\tlearn: 0.2350083\ttotal: 31.9s\tremaining: 3.62s\n",
      "898:\tlearn: 0.2349338\ttotal: 31.9s\tremaining: 3.58s\n",
      "899:\tlearn: 0.2348578\ttotal: 31.9s\tremaining: 3.55s\n",
      "900:\tlearn: 0.2347725\ttotal: 32s\tremaining: 3.51s\n",
      "901:\tlearn: 0.2346866\ttotal: 32s\tremaining: 3.48s\n",
      "902:\tlearn: 0.2345938\ttotal: 32s\tremaining: 3.44s\n",
      "903:\tlearn: 0.2345498\ttotal: 32.1s\tremaining: 3.41s\n",
      "904:\tlearn: 0.2344888\ttotal: 32.1s\tremaining: 3.37s\n",
      "905:\tlearn: 0.2344215\ttotal: 32.2s\tremaining: 3.34s\n",
      "906:\tlearn: 0.2343505\ttotal: 32.2s\tremaining: 3.3s\n",
      "907:\tlearn: 0.2342226\ttotal: 32.2s\tremaining: 3.27s\n",
      "908:\tlearn: 0.2340806\ttotal: 32.3s\tremaining: 3.23s\n",
      "909:\tlearn: 0.2339604\ttotal: 32.3s\tremaining: 3.19s\n",
      "910:\tlearn: 0.2338774\ttotal: 32.3s\tremaining: 3.16s\n",
      "911:\tlearn: 0.2337632\ttotal: 32.4s\tremaining: 3.13s\n",
      "912:\tlearn: 0.2336783\ttotal: 32.4s\tremaining: 3.09s\n",
      "913:\tlearn: 0.2336023\ttotal: 32.5s\tremaining: 3.06s\n",
      "914:\tlearn: 0.2335353\ttotal: 32.5s\tremaining: 3.02s\n",
      "915:\tlearn: 0.2334530\ttotal: 32.6s\tremaining: 2.99s\n",
      "916:\tlearn: 0.2333497\ttotal: 32.7s\tremaining: 2.96s\n",
      "917:\tlearn: 0.2332639\ttotal: 32.7s\tremaining: 2.92s\n",
      "918:\tlearn: 0.2331830\ttotal: 32.8s\tremaining: 2.89s\n",
      "919:\tlearn: 0.2330662\ttotal: 32.8s\tremaining: 2.85s\n",
      "920:\tlearn: 0.2329033\ttotal: 32.9s\tremaining: 2.82s\n",
      "921:\tlearn: 0.2327768\ttotal: 33s\tremaining: 2.79s\n",
      "922:\tlearn: 0.2326927\ttotal: 33s\tremaining: 2.75s\n",
      "923:\tlearn: 0.2326027\ttotal: 33.1s\tremaining: 2.72s\n",
      "924:\tlearn: 0.2325007\ttotal: 33.1s\tremaining: 2.69s\n",
      "925:\tlearn: 0.2323774\ttotal: 33.2s\tremaining: 2.65s\n",
      "926:\tlearn: 0.2322884\ttotal: 33.2s\tremaining: 2.62s\n",
      "927:\tlearn: 0.2321738\ttotal: 33.2s\tremaining: 2.58s\n",
      "928:\tlearn: 0.2320776\ttotal: 33.3s\tremaining: 2.54s\n",
      "929:\tlearn: 0.2319447\ttotal: 33.4s\tremaining: 2.51s\n",
      "930:\tlearn: 0.2318556\ttotal: 33.4s\tremaining: 2.48s\n",
      "931:\tlearn: 0.2317726\ttotal: 33.5s\tremaining: 2.44s\n",
      "932:\tlearn: 0.2316899\ttotal: 33.5s\tremaining: 2.41s\n",
      "933:\tlearn: 0.2315690\ttotal: 33.6s\tremaining: 2.37s\n",
      "934:\tlearn: 0.2314942\ttotal: 33.6s\tremaining: 2.34s\n",
      "935:\tlearn: 0.2314249\ttotal: 33.7s\tremaining: 2.3s\n",
      "936:\tlearn: 0.2312809\ttotal: 33.7s\tremaining: 2.26s\n",
      "937:\tlearn: 0.2312141\ttotal: 33.7s\tremaining: 2.23s\n",
      "938:\tlearn: 0.2311431\ttotal: 33.8s\tremaining: 2.19s\n",
      "939:\tlearn: 0.2310497\ttotal: 33.8s\tremaining: 2.16s\n",
      "940:\tlearn: 0.2309496\ttotal: 33.8s\tremaining: 2.12s\n",
      "941:\tlearn: 0.2308881\ttotal: 33.9s\tremaining: 2.09s\n",
      "942:\tlearn: 0.2307992\ttotal: 33.9s\tremaining: 2.05s\n",
      "943:\tlearn: 0.2307180\ttotal: 34s\tremaining: 2.01s\n",
      "944:\tlearn: 0.2306080\ttotal: 34s\tremaining: 1.98s\n",
      "945:\tlearn: 0.2305164\ttotal: 34s\tremaining: 1.94s\n",
      "946:\tlearn: 0.2304272\ttotal: 34.1s\tremaining: 1.91s\n",
      "947:\tlearn: 0.2303424\ttotal: 34.1s\tremaining: 1.87s\n",
      "948:\tlearn: 0.2302667\ttotal: 34.2s\tremaining: 1.84s\n",
      "949:\tlearn: 0.2301266\ttotal: 34.2s\tremaining: 1.8s\n",
      "950:\tlearn: 0.2300244\ttotal: 34.2s\tremaining: 1.76s\n",
      "951:\tlearn: 0.2299295\ttotal: 34.3s\tremaining: 1.73s\n",
      "952:\tlearn: 0.2298416\ttotal: 34.3s\tremaining: 1.69s\n",
      "953:\tlearn: 0.2297528\ttotal: 34.4s\tremaining: 1.66s\n",
      "954:\tlearn: 0.2296660\ttotal: 34.4s\tremaining: 1.62s\n",
      "955:\tlearn: 0.2295471\ttotal: 34.5s\tremaining: 1.58s\n",
      "956:\tlearn: 0.2294729\ttotal: 34.5s\tremaining: 1.55s\n",
      "957:\tlearn: 0.2293919\ttotal: 34.5s\tremaining: 1.51s\n",
      "958:\tlearn: 0.2293137\ttotal: 34.5s\tremaining: 1.48s\n",
      "959:\tlearn: 0.2292279\ttotal: 34.6s\tremaining: 1.44s\n",
      "960:\tlearn: 0.2291396\ttotal: 34.6s\tremaining: 1.41s\n",
      "961:\tlearn: 0.2290507\ttotal: 34.7s\tremaining: 1.37s\n",
      "962:\tlearn: 0.2289602\ttotal: 34.7s\tremaining: 1.33s\n",
      "963:\tlearn: 0.2288933\ttotal: 34.7s\tremaining: 1.3s\n",
      "964:\tlearn: 0.2288189\ttotal: 34.8s\tremaining: 1.26s\n",
      "965:\tlearn: 0.2287469\ttotal: 34.8s\tremaining: 1.23s\n",
      "966:\tlearn: 0.2286445\ttotal: 34.9s\tremaining: 1.19s\n",
      "967:\tlearn: 0.2285588\ttotal: 34.9s\tremaining: 1.15s\n",
      "968:\tlearn: 0.2284522\ttotal: 34.9s\tremaining: 1.12s\n",
      "969:\tlearn: 0.2283820\ttotal: 35s\tremaining: 1.08s\n",
      "970:\tlearn: 0.2282965\ttotal: 35s\tremaining: 1.04s\n",
      "971:\tlearn: 0.2282281\ttotal: 35s\tremaining: 1.01s\n",
      "972:\tlearn: 0.2281424\ttotal: 35.1s\tremaining: 974ms\n",
      "973:\tlearn: 0.2280358\ttotal: 35.1s\tremaining: 937ms\n",
      "974:\tlearn: 0.2279225\ttotal: 35.2s\tremaining: 902ms\n",
      "975:\tlearn: 0.2278185\ttotal: 35.2s\tremaining: 866ms\n",
      "976:\tlearn: 0.2276957\ttotal: 35.2s\tremaining: 829ms\n",
      "977:\tlearn: 0.2275938\ttotal: 35.3s\tremaining: 793ms\n",
      "978:\tlearn: 0.2275149\ttotal: 35.3s\tremaining: 757ms\n",
      "979:\tlearn: 0.2274508\ttotal: 35.3s\tremaining: 721ms\n"
     ]
    },
    {
     "name": "stdout",
     "output_type": "stream",
     "text": [
      "980:\tlearn: 0.2273854\ttotal: 35.4s\tremaining: 685ms\n",
      "981:\tlearn: 0.2273165\ttotal: 35.4s\tremaining: 649ms\n",
      "982:\tlearn: 0.2272483\ttotal: 35.4s\tremaining: 613ms\n",
      "983:\tlearn: 0.2271756\ttotal: 35.4s\tremaining: 576ms\n",
      "984:\tlearn: 0.2271087\ttotal: 35.5s\tremaining: 540ms\n",
      "985:\tlearn: 0.2270020\ttotal: 35.5s\tremaining: 504ms\n",
      "986:\tlearn: 0.2269165\ttotal: 35.5s\tremaining: 468ms\n",
      "987:\tlearn: 0.2268496\ttotal: 35.6s\tremaining: 432ms\n",
      "988:\tlearn: 0.2267329\ttotal: 35.6s\tremaining: 396ms\n",
      "989:\tlearn: 0.2266574\ttotal: 35.6s\tremaining: 360ms\n",
      "990:\tlearn: 0.2266029\ttotal: 35.7s\tremaining: 324ms\n",
      "991:\tlearn: 0.2265473\ttotal: 35.7s\tremaining: 288ms\n",
      "992:\tlearn: 0.2264853\ttotal: 35.7s\tremaining: 252ms\n",
      "993:\tlearn: 0.2264198\ttotal: 35.8s\tremaining: 216ms\n",
      "994:\tlearn: 0.2263336\ttotal: 35.8s\tremaining: 180ms\n",
      "995:\tlearn: 0.2262590\ttotal: 35.8s\tremaining: 144ms\n",
      "996:\tlearn: 0.2261567\ttotal: 35.9s\tremaining: 108ms\n",
      "997:\tlearn: 0.2260627\ttotal: 35.9s\tremaining: 71.9ms\n",
      "998:\tlearn: 0.2259965\ttotal: 35.9s\tremaining: 36ms\n",
      "999:\tlearn: 0.2259254\ttotal: 36s\tremaining: 0us\n"
     ]
    },
    {
     "data": {
      "text/plain": [
       "<catboost.core.CatBoostClassifier at 0x2657186e1f0>"
      ]
     },
     "execution_count": 46,
     "metadata": {},
     "output_type": "execute_result"
    }
   ],
   "source": [
    "cb = CatBoostClassifier(learning_rate = 0.001)\n",
    "cb.fit(x_train, y_train)"
   ]
  },
  {
   "cell_type": "code",
   "execution_count": 47,
   "metadata": {},
   "outputs": [
    {
     "data": {
      "text/html": [
       "<div>\n",
       "<style scoped>\n",
       "    .dataframe tbody tr th:only-of-type {\n",
       "        vertical-align: middle;\n",
       "    }\n",
       "\n",
       "    .dataframe tbody tr th {\n",
       "        vertical-align: top;\n",
       "    }\n",
       "\n",
       "    .dataframe thead th {\n",
       "        text-align: right;\n",
       "    }\n",
       "</style>\n",
       "<table border=\"1\" class=\"dataframe\">\n",
       "  <thead>\n",
       "    <tr style=\"text-align: right;\">\n",
       "      <th></th>\n",
       "      <th>Train Score</th>\n",
       "      <th>Test Score</th>\n",
       "    </tr>\n",
       "  </thead>\n",
       "  <tbody>\n",
       "    <tr>\n",
       "      <th>Accuracy</th>\n",
       "      <td>0.911108</td>\n",
       "      <td>0.913450</td>\n",
       "    </tr>\n",
       "    <tr>\n",
       "      <th>Precision</th>\n",
       "      <td>0.708800</td>\n",
       "      <td>0.745995</td>\n",
       "    </tr>\n",
       "    <tr>\n",
       "      <th>ROC AUC</th>\n",
       "      <td>0.934617</td>\n",
       "      <td>0.941840</td>\n",
       "    </tr>\n",
       "  </tbody>\n",
       "</table>\n",
       "</div>"
      ],
      "text/plain": [
       "           Train Score  Test Score\n",
       "Accuracy      0.911108    0.913450\n",
       "Precision     0.708800    0.745995\n",
       "ROC AUC       0.934617    0.941840"
      ]
     },
     "execution_count": 47,
     "metadata": {},
     "output_type": "execute_result"
    }
   ],
   "source": [
    "score(cb)"
   ]
  },
  {
   "cell_type": "code",
   "execution_count": 48,
   "metadata": {},
   "outputs": [
    {
     "data": {
      "text/plain": [
       "XGBClassifier(base_score=0.5, booster='gbtree', colsample_bylevel=1,\n",
       "              colsample_bynode=1, colsample_bytree=1, gamma=0, gpu_id=-1,\n",
       "              importance_type='gain', interaction_constraints='',\n",
       "              learning_rate=0.300000012, max_delta_step=0, max_depth=4,\n",
       "              min_child_weight=1, missing=nan, monotone_constraints='()',\n",
       "              n_estimators=100, n_jobs=0, num_parallel_tree=1, random_state=0,\n",
       "              reg_alpha=0, reg_lambda=1, scale_pos_weight=1, subsample=1,\n",
       "              tree_method='exact', validate_parameters=1, verbosity=None)"
      ]
     },
     "execution_count": 48,
     "metadata": {},
     "output_type": "execute_result"
    }
   ],
   "source": [
    "xgb = XGBClassifier(max_depth = 4)\n",
    "xgb.fit(x_train, y_train)"
   ]
  },
  {
   "cell_type": "code",
   "execution_count": 49,
   "metadata": {},
   "outputs": [
    {
     "data": {
      "text/html": [
       "<div>\n",
       "<style scoped>\n",
       "    .dataframe tbody tr th:only-of-type {\n",
       "        vertical-align: middle;\n",
       "    }\n",
       "\n",
       "    .dataframe tbody tr th {\n",
       "        vertical-align: top;\n",
       "    }\n",
       "\n",
       "    .dataframe thead th {\n",
       "        text-align: right;\n",
       "    }\n",
       "</style>\n",
       "<table border=\"1\" class=\"dataframe\">\n",
       "  <thead>\n",
       "    <tr style=\"text-align: right;\">\n",
       "      <th></th>\n",
       "      <th>Train Score</th>\n",
       "      <th>Test Score</th>\n",
       "    </tr>\n",
       "  </thead>\n",
       "  <tbody>\n",
       "    <tr>\n",
       "      <th>Accuracy</th>\n",
       "      <td>0.933869</td>\n",
       "      <td>0.918670</td>\n",
       "    </tr>\n",
       "    <tr>\n",
       "      <th>Precision</th>\n",
       "      <td>0.761872</td>\n",
       "      <td>0.675272</td>\n",
       "    </tr>\n",
       "    <tr>\n",
       "      <th>ROC AUC</th>\n",
       "      <td>0.962186</td>\n",
       "      <td>0.951939</td>\n",
       "    </tr>\n",
       "  </tbody>\n",
       "</table>\n",
       "</div>"
      ],
      "text/plain": [
       "           Train Score  Test Score\n",
       "Accuracy      0.933869    0.918670\n",
       "Precision     0.761872    0.675272\n",
       "ROC AUC       0.962186    0.951939"
      ]
     },
     "execution_count": 49,
     "metadata": {},
     "output_type": "execute_result"
    }
   ],
   "source": [
    "score(xgb)"
   ]
  },
  {
   "cell_type": "code",
   "execution_count": 50,
   "metadata": {},
   "outputs": [],
   "source": [
    "def build_feature_importance(model, x_train, y_train):\n",
    "    \n",
    "    data = pd.DataFrame(model.feature_importances_, x.columns.values, columns=[\"feature\"])\n",
    "    data = data.sort_values(by='feature', ascending=False).reset_index()\n",
    "    plt.figure(figsize=[12,8])\n",
    "    sns.barplot(x ='index', y='feature', data=data[:10], palette=\"Blues_d\")\n",
    "    plt.title('Feature inportance of {}'.format(model))\n",
    "    plt.xticks(rotation=45)\n",
    "    plt.show();"
   ]
  },
  {
   "cell_type": "code",
   "execution_count": 51,
   "metadata": {},
   "outputs": [
    {
     "data": {
      "image/png": "[encoded data removed]",
      "text/plain": [
       "<Figure size 864x576 with 1 Axes>"
      ]
     },
     "metadata": {
      "needs_background": "light"
     },
     "output_type": "display_data"
    }
   ],
   "source": [
    "build_feature_importance(rf, x_train, y_train)"
   ]
  },
  {
   "cell_type": "code",
   "execution_count": 52,
   "metadata": {},
   "outputs": [
    {
     "data": {
      "image/png": "[encoded data removed]",
      "text/plain": [
       "<Figure size 864x576 with 1 Axes>"
      ]
     },
     "metadata": {
      "needs_background": "light"
     },
     "output_type": "display_data"
    }
   ],
   "source": [
    "build_feature_importance(cb, x_train, y_train)"
   ]
  },
  {
   "cell_type": "code",
   "execution_count": 53,
   "metadata": {},
   "outputs": [],
   "source": [
    "data = pd.read_csv('C:\\\\Users\\\\Muhammad Hazim\\\\Desktop\\\\bank-additional-full.csv', sep = ';')"
   ]
  },
  {
   "cell_type": "code",
   "execution_count": 54,
   "metadata": {},
   "outputs": [],
   "source": [
    "data.y = data.y.map({'yes':1, 'no':0})"
   ]
  },
  {
   "cell_type": "code",
   "execution_count": 58,
   "metadata": {},
   "outputs": [
    {
     "data": {
      "text/html": [
       "<div>\n",
       "<style scoped>\n",
       "    .dataframe tbody tr th:only-of-type {\n",
       "        vertical-align: middle;\n",
       "    }\n",
       "\n",
       "    .dataframe tbody tr th {\n",
       "        vertical-align: top;\n",
       "    }\n",
       "\n",
       "    .dataframe thead th {\n",
       "        text-align: right;\n",
       "    }\n",
       "</style>\n",
       "<table border=\"1\" class=\"dataframe\">\n",
       "  <thead>\n",
       "    <tr style=\"text-align: right;\">\n",
       "      <th></th>\n",
       "      <th>month</th>\n",
       "      <th>y</th>\n",
       "    </tr>\n",
       "  </thead>\n",
       "  <tbody>\n",
       "    <tr>\n",
       "      <th>5</th>\n",
       "      <td>mar</td>\n",
       "      <td>0.505495</td>\n",
       "    </tr>\n",
       "    <tr>\n",
       "      <th>2</th>\n",
       "      <td>dec</td>\n",
       "      <td>0.489011</td>\n",
       "    </tr>\n",
       "    <tr>\n",
       "      <th>9</th>\n",
       "      <td>sep</td>\n",
       "      <td>0.449123</td>\n",
       "    </tr>\n",
       "    <tr>\n",
       "      <th>8</th>\n",
       "      <td>oct</td>\n",
       "      <td>0.438719</td>\n",
       "    </tr>\n",
       "    <tr>\n",
       "      <th>0</th>\n",
       "      <td>apr</td>\n",
       "      <td>0.204787</td>\n",
       "    </tr>\n",
       "    <tr>\n",
       "      <th>1</th>\n",
       "      <td>aug</td>\n",
       "      <td>0.106021</td>\n",
       "    </tr>\n",
       "    <tr>\n",
       "      <th>4</th>\n",
       "      <td>jun</td>\n",
       "      <td>0.105115</td>\n",
       "    </tr>\n",
       "    <tr>\n",
       "      <th>7</th>\n",
       "      <td>nov</td>\n",
       "      <td>0.101439</td>\n",
       "    </tr>\n",
       "    <tr>\n",
       "      <th>3</th>\n",
       "      <td>jul</td>\n",
       "      <td>0.090466</td>\n",
       "    </tr>\n",
       "    <tr>\n",
       "      <th>6</th>\n",
       "      <td>may</td>\n",
       "      <td>0.064347</td>\n",
       "    </tr>\n",
       "  </tbody>\n",
       "</table>\n",
       "</div>"
      ],
      "text/plain": [
       "  month         y\n",
       "5   mar  0.505495\n",
       "2   dec  0.489011\n",
       "9   sep  0.449123\n",
       "8   oct  0.438719\n",
       "0   apr  0.204787\n",
       "1   aug  0.106021\n",
       "4   jun  0.105115\n",
       "7   nov  0.101439\n",
       "3   jul  0.090466\n",
       "6   may  0.064347"
      ]
     },
     "execution_count": 58,
     "metadata": {},
     "output_type": "execute_result"
    }
   ],
   "source": [
    "data[['month','y']].groupby(['month'], as_index = False).mean().sort_values(by = 'y', ascending = False)"
   ]
  },
  {
   "cell_type": "code",
   "execution_count": 62,
   "metadata": {},
   "outputs": [],
   "source": [
    "data.pdays = data.pdays.replace(999,0)"
   ]
  },
  {
   "cell_type": "code",
   "execution_count": 63,
   "metadata": {},
   "outputs": [
    {
     "data": {
      "text/plain": [
       "<matplotlib.axes._subplots.AxesSubplot at 0x2657329aa60>"
      ]
     },
     "execution_count": 63,
     "metadata": {},
     "output_type": "execute_result"
    },
    {
     "data": {
      "image/png": "[encoded data removed]",
      "text/plain": [
       "<Figure size 1080x432 with 1 Axes>"
      ]
     },
     "metadata": {
      "needs_background": "light"
     },
     "output_type": "display_data"
    }
   ],
   "source": [
    "plt.figure(figsize = (15,6))\n",
    "sns.boxplot(data['y'],data['pdays'])"
   ]
  },
  {
   "cell_type": "code",
   "execution_count": 64,
   "metadata": {},
   "outputs": [
    {
     "data": {
      "text/plain": [
       "<matplotlib.axes._subplots.AxesSubplot at 0x265722fb0d0>"
      ]
     },
     "execution_count": 64,
     "metadata": {},
     "output_type": "execute_result"
    },
    {
     "data": {
      "image/png": "[encoded data removed]",
      "text/plain": [
       "<Figure size 1080x432 with 1 Axes>"
      ]
     },
     "metadata": {
      "needs_background": "light"
     },
     "output_type": "display_data"
    }
   ],
   "source": [
    "plt.figure(figsize = (15,6))\n",
    "sns.boxplot(data['y'],data['nr.employed'])"
   ]
  },
  {
   "cell_type": "code",
   "execution_count": 65,
   "metadata": {},
   "outputs": [
    {
     "data": {
      "text/plain": [
       "<matplotlib.axes._subplots.AxesSubplot at 0x2657392f550>"
      ]
     },
     "execution_count": 65,
     "metadata": {},
     "output_type": "execute_result"
    },
    {
     "data": {
      "image/png": "[encoded data removed]",
      "text/plain": [
       "<Figure size 1080x432 with 1 Axes>"
      ]
     },
     "metadata": {
      "needs_background": "light"
     },
     "output_type": "display_data"
    }
   ],
   "source": [
    "plt.figure(figsize = (15,6))\n",
    "sns.boxplot(data['y'],data['cons.price.idx'])"
   ]
  },
  {
   "cell_type": "code",
   "execution_count": 66,
   "metadata": {},
   "outputs": [
    {
     "data": {
      "text/plain": [
       "<matplotlib.axes._subplots.AxesSubplot at 0x2657238ac10>"
      ]
     },
     "execution_count": 66,
     "metadata": {},
     "output_type": "execute_result"
    },
    {
     "data": {
      "image/png": "[encoded data removed]",
      "text/plain": [
       "<Figure size 1080x432 with 1 Axes>"
      ]
     },
     "metadata": {
      "needs_background": "light"
     },
     "output_type": "display_data"
    }
   ],
   "source": [
    "plt.figure(figsize = (15,6))\n",
    "sns.boxplot(data['y'],data['cons.conf.idx'])"
   ]
  },
  {
   "cell_type": "code",
   "execution_count": 67,
   "metadata": {},
   "outputs": [
    {
     "data": {
      "text/plain": [
       "<matplotlib.axes._subplots.AxesSubplot at 0x26571859160>"
      ]
     },
     "execution_count": 67,
     "metadata": {},
     "output_type": "execute_result"
    },
    {
     "data": {
      "image/png": "[encoded data removed]",
      "text/plain": [
       "<Figure size 1080x432 with 1 Axes>"
      ]
     },
     "metadata": {
      "needs_background": "light"
     },
     "output_type": "display_data"
    }
   ],
   "source": [
    "plt.figure(figsize = (15,6))\n",
    "sns.boxplot(data['y'],data['duration'])"
   ]
  }
 ],
 "metadata": {
  "kernelspec": {
   "display_name": "Python 3",
   "language": "python",
   "name": "python3"
  },
  "language_info": {
   "codemirror_mode": {
    "name": "ipython",
    "version": 3
   },
   "file_extension": ".py",
   "mimetype": "text/x-python",
   "name": "python",
   "nbconvert_exporter": "python",
   "pygments_lexer": "ipython3",
   "version": "3.8.3"
  }
 },
 "nbformat": 4,
 "nbformat_minor": 4
}
